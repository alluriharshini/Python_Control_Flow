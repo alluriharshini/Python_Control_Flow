{
 "cells": [
  {
   "cell_type": "markdown",
   "id": "adbc8089-276a-468b-9d19-220eeea088f9",
   "metadata": {},
   "source": [
    "1. Write a Python program to check if a given number is positive or negative."
   ]
  },
  {
   "cell_type": "code",
   "execution_count": 7,
   "id": "00127a77-b705-4b01-847a-66c5a9b1b801",
   "metadata": {},
   "outputs": [
    {
     "name": "stdin",
     "output_type": "stream",
     "text": [
      "Enter a number 3\n"
     ]
    },
    {
     "name": "stdout",
     "output_type": "stream",
     "text": [
      "The 3 number is positive\n"
     ]
    }
   ],
   "source": [
    "num=int(input(\"Enter a number\"))\n",
    "if num>0:\n",
    "    print(f\"The {num} number is positive\")\n",
    "elif num==0:\n",
    "    print(f\"The {num} number is zero\")\n",
    "else:\n",
    "    print(f\"The {num} number is negative\")"
   ]
  },
  {
   "cell_type": "markdown",
   "id": "c4578416-db71-4b82-b1b7-f7e649eed5ca",
   "metadata": {},
   "source": [
    "2. Create a program that determines if a person is eligible to vote based on their age."
   ]
  },
  {
   "cell_type": "code",
   "execution_count": 10,
   "id": "0e940c2c-4d22-488b-affd-cad6909d855b",
   "metadata": {},
   "outputs": [
    {
     "name": "stdin",
     "output_type": "stream",
     "text": [
      "Enter the age: 23\n"
     ]
    },
    {
     "name": "stdout",
     "output_type": "stream",
     "text": [
      "Yes, He is eligible for voting\n"
     ]
    }
   ],
   "source": [
    "age=int(input(\"Enter the age:\"))\n",
    "if age>=18:\n",
    "    #a person show be be 18 or above to vote\n",
    "    print(\"Yes, He is eligible for voting\")\n",
    "else:\n",
    "    print(\"No,He is not eligible to vote\")"
   ]
  },
  {
   "cell_type": "markdown",
   "id": "ca8995fb-4735-468e-b34d-99244c3770c4",
   "metadata": {},
   "source": [
    "3. Develop a program to find the maximum of two numbers using if-else statements."
   ]
  },
  {
   "cell_type": "code",
   "execution_count": 13,
   "id": "15cc311a-8d9a-4814-8e3e-383c14689334",
   "metadata": {},
   "outputs": [
    {
     "name": "stdin",
     "output_type": "stream",
     "text": [
      "Enter first number: 33\n",
      "Enter second number: 2\n"
     ]
    },
    {
     "name": "stdout",
     "output_type": "stream",
     "text": [
      "33 is greater than 2\n"
     ]
    }
   ],
   "source": [
    "a=int(input(\"Enter first number:\"))\n",
    "b=int(input(\"Enter second number:\"))\n",
    "#checking if a is greater than b\n",
    "if a>b:\n",
    "    print(f\"{a} is greater than {b}\")\n",
    "else:\n",
    "    #if the if statemnet is false else statement will print\n",
    "    print(f\"{b} is grater than {a}\")"
   ]
  },
  {
   "cell_type": "markdown",
   "id": "639ff062-eee4-4ff0-8af4-dd9f8ddd2748",
   "metadata": {},
   "source": [
    "4. Write a Python script to classify a given year as a leap year or not."
   ]
  },
  {
   "cell_type": "code",
   "execution_count": 14,
   "id": "d3bdcca6-db06-411d-a44f-cb16b7dba5da",
   "metadata": {},
   "outputs": [
    {
     "name": "stdin",
     "output_type": "stream",
     "text": [
      "Enter a year:  2001\n"
     ]
    },
    {
     "name": "stdout",
     "output_type": "stream",
     "text": [
      "2001 is not a leap year.\n"
     ]
    }
   ],
   "source": [
    "year = int(input(\"Enter a year: \"))\n",
    "\n",
    "# Checking if the inout is a leap year\n",
    "if (year % 4 == 0 and year % 100 != 0) or (year % 400 == 0):\n",
    "    print(f\"{year} is a leap year.\")\n",
    "else:\n",
    "    print(f\"{year} is not a leap year.\")\n"
   ]
  },
  {
   "cell_type": "markdown",
   "id": "7bf9a518-8f52-4054-bab0-4445f70c3854",
   "metadata": {},
   "source": [
    "5. Create a program that checks whether a character is a vowel or a consonant."
   ]
  },
  {
   "cell_type": "code",
   "execution_count": 26,
   "id": "5fdc4d41-7281-4fca-8c9b-198e30259169",
   "metadata": {},
   "outputs": [
    {
     "name": "stdin",
     "output_type": "stream",
     "text": [
      "Enter a character:  e\n"
     ]
    },
    {
     "name": "stdout",
     "output_type": "stream",
     "text": [
      "e is a vowel\n"
     ]
    }
   ],
   "source": [
    "character = input(\"Enter a character: \")\n",
    "\n",
    "# to ensure the input is a single character\n",
    "if len(character) == 1:\n",
    "    # Convertin the input character to lowercase for case-insensitive checking\n",
    "    character = character.lower()\n",
    "\n",
    "    # Checking if it's a vowel or a consonant\n",
    "    if character in 'aeiou':\n",
    "        print(f\"{character} is a vowel\")\n",
    "    else:\n",
    "        print(f\"{character} is a consonant\")\n",
    "else:\n",
    "    print(\"Please enter a single character\")\n"
   ]
  },
  {
   "cell_type": "markdown",
   "id": "bd052fcc-2bf9-4f05-b1f4-60aeefaa6499",
   "metadata": {},
   "source": [
    "6. Implement a program to determine whether a given number is even or odd."
   ]
  },
  {
   "cell_type": "code",
   "execution_count": 47,
   "id": "3b6704c3-7347-49be-b119-6e12ae909520",
   "metadata": {},
   "outputs": [
    {
     "name": "stdin",
     "output_type": "stream",
     "text": [
      "Enter a number: 34\n"
     ]
    },
    {
     "name": "stdout",
     "output_type": "stream",
     "text": [
      "34 is even\n"
     ]
    }
   ],
   "source": [
    "number=int(input(\"Enter a number:\"))\n",
    "if number%2==0:\n",
    "    #a number must be divisible by 2 to be an even number\n",
    "    print(f\"{number} is even\")\n",
    "else:\n",
    "    print(f\"{number} is odd\")"
   ]
  },
  {
   "cell_type": "markdown",
   "id": "266b4f3c-33a5-4635-8dd1-ac42c9027d26",
   "metadata": {},
   "source": [
    "7. Write a Python function to calculate the absolute value of a number without using the `abs()` function."
   ]
  },
  {
   "cell_type": "code",
   "execution_count": 42,
   "id": "abf6c91d-c125-46ae-bde1-3817a69c654d",
   "metadata": {},
   "outputs": [
    {
     "name": "stdin",
     "output_type": "stream",
     "text": [
      "Enter a number:  -111\n"
     ]
    },
    {
     "name": "stdout",
     "output_type": "stream",
     "text": [
      "The absolute value of -111.0 is 111.0\n"
     ]
    }
   ],
   "source": [
    "num = float(input(\"Enter a number: \"))\n",
    "\n",
    "# the abs() function gives the positive value of the number if it is neative\n",
    "absolute_value = abs(num)\n",
    "\n",
    "print(f\"The absolute value of {num} is {absolute_value}\")"
   ]
  },
  {
   "cell_type": "markdown",
   "id": "725d3943-00ed-4d9f-b189-d9c949a1d6fe",
   "metadata": {},
   "source": [
    "8. Develop a program that determines the largest of three given numbers using if-else statements."
   ]
  },
  {
   "cell_type": "code",
   "execution_count": 45,
   "id": "d1510ce0-3773-4602-9409-ce8430899393",
   "metadata": {},
   "outputs": [
    {
     "name": "stdin",
     "output_type": "stream",
     "text": [
      "Enter first number: 11.2\n",
      "Enter second number: 3\n",
      "Enter third number: 2\n"
     ]
    },
    {
     "name": "stdout",
     "output_type": "stream",
     "text": [
      "11.2 is greater tha 3.0 and 2.0\n"
     ]
    }
   ],
   "source": [
    "a=float(input(\"Enter first number:\"))\n",
    "b=float(input(\"Enter second number:\"))\n",
    "c=float(input(\"Enter third number:\"))\n",
    "if a>b and a>c:\n",
    "    print(f\"{a} is greater tha {b} and {c}\")\n",
    "elif b>a and b>c:\n",
    "    print(f\"{b} is greater than {a} and {c}\")\n",
    "else:\n",
    "    print(f\"{c} is greater than {a} and {b}\")"
   ]
  },
  {
   "cell_type": "markdown",
   "id": "c76dc138-8fac-4008-9ee9-bd231a938821",
   "metadata": {},
   "source": [
    "9. Create a program that checks if a given string is a palindrome."
   ]
  },
  {
   "cell_type": "code",
   "execution_count": 5,
   "id": "6556e01e-b034-4be2-8e52-5382a61177f6",
   "metadata": {},
   "outputs": [
    {
     "name": "stdin",
     "output_type": "stream",
     "text": [
      "Enter a string:  hah hah\n"
     ]
    },
    {
     "name": "stdout",
     "output_type": "stream",
     "text": [
      "hahhah is a palindrome.\n"
     ]
    }
   ],
   "source": [
    "# Input a string from the user\n",
    "string = input(\"Enter a string: \")\n",
    "\n",
    "# if the string contains space it will remove spaces and convert the string to lowercase for comparison\n",
    "string = string.replace(\" \", \"\").lower()\n",
    "\n",
    "# Reversing the string\n",
    "reverse_string = string[::-1]\n",
    "\n",
    "if string == reverse_string:\n",
    "    print(f\"{string} is a palindrome.\")\n",
    "else:\n",
    "    print(f\"{string} is not a palindrome.\")\n"
   ]
  },
  {
   "cell_type": "markdown",
   "id": "f26fd0ca-74e3-498a-ae76-f034ac3fc900",
   "metadata": {},
   "source": [
    "10. Write a Python program to calculate the grade based on a student's score."
   ]
  },
  {
   "cell_type": "code",
   "execution_count": 12,
   "id": "ea755ee8-0392-41de-9b51-18ab526d7762",
   "metadata": {},
   "outputs": [
    {
     "name": "stdin",
     "output_type": "stream",
     "text": [
      "Enter the score: 55\n"
     ]
    },
    {
     "name": "stdout",
     "output_type": "stream",
     "text": [
      "The student has been graded with : B\n"
     ]
    }
   ],
   "source": [
    "score=float(input(\"Enter the score:\"))\n",
    "if score>90:\n",
    "    print(\"The student has been graded with : A+\")\n",
    "elif (score<70 and score>60) :\n",
    "    print(\"The student has been graded with : A\")\n",
    "elif (score>50 and score<60):\n",
    "    print(\"The student has been graded with : B\")\n",
    "elif (score>40 and score<50):\n",
    "    print(\"The student has been graded with : C\")    \n",
    "else:\n",
    "    print(\"The student has been graded with : F\")\n",
    "    \n",
    "    "
   ]
  },
  {
   "cell_type": "markdown",
   "id": "3caaadb7-9aa0-4ee8-abec-cb46305c0a41",
   "metadata": {},
   "source": [
    "11. Write a program to find the largest among three numbers using nested if-else statements."
   ]
  },
  {
   "cell_type": "code",
   "execution_count": 15,
   "id": "6e542c51-1d9b-4a16-af20-e00db4aeb853",
   "metadata": {},
   "outputs": [
    {
     "name": "stdin",
     "output_type": "stream",
     "text": [
      "Enter first number: 22.3\n",
      "Enter second number: 22.4\n",
      "Enter third number: 22.5\n"
     ]
    },
    {
     "name": "stdout",
     "output_type": "stream",
     "text": [
      "22.5 is grater than 22.3,22.4\n"
     ]
    }
   ],
   "source": [
    "a=float(input(\"Enter first number:\"))\n",
    "b=float(input(\"Enter second number:\"))\n",
    "c=float(input(\"Enter third number:\"))\n",
    "#checking if a is greater than b\n",
    "if a>b and a>c:\n",
    "    print(f\"{a} is greater than {b},{c}\")\n",
    "elif b>a and b>c:\n",
    "    print(f\"{b} is greater than {a},{c}\")\n",
    "else:\n",
    "    #if the abive if and elif statements is false else statement will print\n",
    "    print(f\"{c} is grater than {a},{b}\")"
   ]
  },
  {
   "cell_type": "markdown",
   "id": "ec17be69-4ecb-4777-a457-d4e63c19db86",
   "metadata": {},
   "source": [
    "12. Implement a program to determine if a triangle is equilateral, isosceles, or scalene."
   ]
  },
  {
   "cell_type": "code",
   "execution_count": 30,
   "id": "861dc1a0-5c10-4629-8afe-da463090c5eb",
   "metadata": {},
   "outputs": [
    {
     "name": "stdin",
     "output_type": "stream",
     "text": [
      "Enter first side: 2\n",
      "Enter second side: 3\n",
      "Enter third side: 2\n"
     ]
    },
    {
     "name": "stdout",
     "output_type": "stream",
     "text": [
      "The triangle is a 'scalene scalene'\n"
     ]
    }
   ],
   "source": [
    "a=float(input(\"Enter first side:\"))\n",
    "b=float(input(\"Enter second side:\"))\n",
    "c=float(input(\"Enter third side:\"))\n",
    "if c==a==b:\n",
    "    print(\"The triangle is a 'Equilateral traiangle'\")\n",
    "elif a==b and a!=c:\n",
    "    print(\"The triangle is a 'isosceles traiangle'\")\n",
    "else:\n",
    "    print(\"The triangle is a 'scalene scalene'\")"
   ]
  },
  {
   "cell_type": "markdown",
   "id": "cf19d51e-541e-41f6-9c93-f6adbc118feb",
   "metadata": {},
   "source": [
    "13. Develop a program that checks if a year is a leap year and also if it is a century year."
   ]
  },
  {
   "cell_type": "code",
   "execution_count": 47,
   "id": "3b3ab01e-db1b-4243-97db-d3f8a7ec7f19",
   "metadata": {},
   "outputs": [
    {
     "name": "stdin",
     "output_type": "stream",
     "text": [
      "Enter the year: 2024\n"
     ]
    },
    {
     "name": "stdout",
     "output_type": "stream",
     "text": [
      "2024 is a leap year and a century year\n"
     ]
    }
   ],
   "source": [
    "year=int(input(\"Enter the year:\"))\n",
    "if year<=0:\n",
    "    print(\"0 and negative is not allow for a year\")\n",
    "elif year%4==0 and year%100!=0 or year%400==0:\n",
    "    print(f\"{year} is a leap year and a century year\")\n",
    "else:\n",
    "    print(f\"{year} is not a leap year and not a century year\")"
   ]
  },
  {
   "cell_type": "markdown",
   "id": "e23bc143-2ef0-47a9-bec6-e1253d5a0ac5",
   "metadata": {},
   "source": [
    "14. Write a Python script to determine if a number is positive, negative, or zero."
   ]
  },
  {
   "cell_type": "code",
   "execution_count": 52,
   "id": "148cfc33-791f-4079-be53-9e0b98d4fe61",
   "metadata": {},
   "outputs": [
    {
     "name": "stdin",
     "output_type": "stream",
     "text": [
      "Enter a number: -1\n"
     ]
    },
    {
     "name": "stdout",
     "output_type": "stream",
     "text": [
      "-1 is negative\n"
     ]
    }
   ],
   "source": [
    "num=int(input(\"Enter a number:\"))\n",
    "if num==0:\n",
    "    print(f\"{num} is zero\")\n",
    "elif num<0:\n",
    "    print(f\"{num} is negative\")\n",
    "else:\n",
    "    print(f\"{num} is positive\")"
   ]
  },
  {
   "cell_type": "markdown",
   "id": "3a54ea15-5235-48ca-83e2-66d7c4996185",
   "metadata": {},
   "source": [
    "15. Create a program to check if a person is a teenager (between 13 and 19 years old)."
   ]
  },
  {
   "cell_type": "code",
   "execution_count": 55,
   "id": "45cb5808-c7b9-4086-a6ba-d1d4a18c5076",
   "metadata": {},
   "outputs": [
    {
     "name": "stdin",
     "output_type": "stream",
     "text": [
      "Enter the age 22\n"
     ]
    },
    {
     "name": "stdout",
     "output_type": "stream",
     "text": [
      "The person is not a teenager\n"
     ]
    }
   ],
   "source": [
    "age=int(input(\"Enter the age\"))\n",
    "if age<19 and age>13:\n",
    "    print(\"The person is a teenager\")\n",
    "else:\n",
    "    print(\"The person is not a teenager\")"
   ]
  },
  {
   "cell_type": "markdown",
   "id": "c9d71208-b911-4e9a-a780-e7838b03218b",
   "metadata": {},
   "source": [
    "16. Develop a program that determines the type of angle based on its measure (acute, obtuse, or right)."
   ]
  },
  {
   "cell_type": "code",
   "execution_count": 64,
   "id": "a580c763-cae4-489c-998e-bf6195cd6ac2",
   "metadata": {},
   "outputs": [
    {
     "name": "stdin",
     "output_type": "stream",
     "text": [
      "Enter an angle: 89.9\n"
     ]
    },
    {
     "name": "stdout",
     "output_type": "stream",
     "text": [
      "The 89.9 angle is acute angle\n"
     ]
    }
   ],
   "source": [
    "a=float(input(\"Enter an angle:\"))\n",
    "if a<90 and a!=0:\n",
    "    print(f\"The {a} angle is acute angle\")\n",
    "elif a>90 and a<180:\n",
    "    print(f\"The {a} angle is obtuse angle\")\n",
    "elif a==90:\n",
    "    print(f\"The {a} angle is right angle\")\n",
    "else:\n",
    "    print(\"Enter a angle between 0 to 180\")"
   ]
  },
  {
   "cell_type": "markdown",
   "id": "a627d4bc-ebf5-4b0f-abd5-73f3fb51828b",
   "metadata": {},
   "source": [
    "17. Write a Python program to calculate the roots of a quadratic equation."
   ]
  },
  {
   "cell_type": "code",
   "execution_count": 9,
   "id": "1382b0ca-db14-467d-8745-67e1938dd89d",
   "metadata": {},
   "outputs": [
    {
     "name": "stdin",
     "output_type": "stream",
     "text": [
      "Enter the coefficient a:  2\n",
      "Enter the coefficient b:  -4\n",
      "Enter the coefficient c:  4\n"
     ]
    },
    {
     "name": "stdout",
     "output_type": "stream",
     "text": [
      "The roots are complex: 1.0 + 1.0i and 1.0 - 1.0i\n"
     ]
    }
   ],
   "source": [
    "import math\n",
    "\n",
    "# The quadratic equation: ax^2 + bx + c = 0\n",
    "a = float(input(\"Enter the coefficient a: \"))\n",
    "b = float(input(\"Enter the coefficient b: \"))\n",
    "c = float(input(\"Enter the coefficient c: \"))\n",
    "\n",
    "# Calculating the discriminant (the value inside the square root)\n",
    "discriminant = b**2 - 4*a*c\n",
    "\n",
    "# Checking the nature of the roots using the discriminant\n",
    "if discriminant > 0:\n",
    "    # Two distinct real roots\n",
    "    root1 = (-b + math.sqrt(discriminant)) / (2*a)\n",
    "    root2 = (-b - math.sqrt(discriminant)) / (2*a)\n",
    "    print(f\"The roots are real and distinct: {root1} and {root2}\")\n",
    "elif discriminant == 0:\n",
    "    # One real root (repeated)\n",
    "    root = -b / (2*a)\n",
    "    print(f\"There is one real root (repeated): {root}\")\n",
    "else:\n",
    "    # Complex roots\n",
    "    real_part = -b / (2*a)\n",
    "    imaginary_part = math.sqrt(abs(discriminant)) / (2*a)\n",
    "    print(f\"The roots are complex: {real_part} + {imaginary_part}i and {real_part} - {imaginary_part}i\")\n"
   ]
  },
  {
   "cell_type": "markdown",
   "id": "080a03d1-ac07-4860-9380-800140b67f74",
   "metadata": {},
   "source": [
    "18. Implement a program to determine the day of the week based on a user-provided number (1 for Monday, 2\n",
    "for Tuesday, etc.)."
   ]
  },
  {
   "cell_type": "code",
   "execution_count": 68,
   "id": "c6277e5e-d151-47d5-bf4d-7869baa992ec",
   "metadata": {},
   "outputs": [
    {
     "name": "stdin",
     "output_type": "stream",
     "text": [
      "Enter a day 7\n"
     ]
    },
    {
     "name": "stdout",
     "output_type": "stream",
     "text": [
      "The day is Sunday\n"
     ]
    }
   ],
   "source": [
    "day=int(input(\"Enter a day\"))\n",
    "if day==1:\n",
    "    print(\"The day is Monday\")\n",
    "elif day==2:\n",
    "    print(\"The day is Tuesday\")\n",
    "elif day==3:\n",
    "    print(\"The day is Wednesday\")    \n",
    "elif day==4:\n",
    "    print(\"The day is Thursday\")    \n",
    "elif day==5:\n",
    "    print(\"The day is Friday\")\n",
    "elif day==6:\n",
    "    print(\"The day is Saturday\")\n",
    "elif day==7:\n",
    "    print(\"The day is Sunday\")  \n",
    "else:\n",
    "    print(\"Enter a valid week number\")"
   ]
  },
  {
   "cell_type": "markdown",
   "id": "2c3e48ab-801b-4e72-8fed-32658cbad3f3",
   "metadata": {},
   "source": [
    "19. Create a program that determines if a year is a leap year and also if it is evenly divisible by 400."
   ]
  },
  {
   "cell_type": "code",
   "execution_count": 70,
   "id": "151f243f-a676-4bcf-a525-3bb32e6f7aa7",
   "metadata": {},
   "outputs": [
    {
     "name": "stdin",
     "output_type": "stream",
     "text": [
      "Enter the year: 3000\n"
     ]
    },
    {
     "name": "stdout",
     "output_type": "stream",
     "text": [
      "Enter a valid year\n"
     ]
    }
   ],
   "source": [
    "year=int(input(\"Enter the year:\"))\n",
    "if year<=0:\n",
    "    print(\"0 and negative is not allow for a year\")\n",
    "elif year%4==0 and year%100!=0 or year%400==0:\n",
    "    print(f\"{year} is a leap year and is divisible by 400\")\n",
    "else:\n",
    "    print(\"Enter a valid year\")"
   ]
  },
  {
   "cell_type": "markdown",
   "id": "64b20a49-9d5a-43fa-b427-67e73f55d1f0",
   "metadata": {},
   "source": [
    "20. Develop a program that checks if a given number is prime or not using nested if-else statements."
   ]
  },
  {
   "cell_type": "code",
   "execution_count": 105,
   "id": "0f9565f6-7e82-4d00-8801-cbdfd6d1b488",
   "metadata": {},
   "outputs": [
    {
     "name": "stdin",
     "output_type": "stream",
     "text": [
      " 4452\n"
     ]
    },
    {
     "name": "stdout",
     "output_type": "stream",
     "text": [
      "The 4452 is not a prime number\n"
     ]
    }
   ],
   "source": [
    "num=int(input())\n",
    "\n",
    "if num==1:\n",
    "    print(f\"{num} is not a prime number\")\n",
    "elif num==2:\n",
    "    print(f\"{num} is a prime number\")\n",
    "elif num>1:\n",
    "    for i in range(2,num):\n",
    "        if (num%2)==0:\n",
    "            print(f\"The {num} is not a prime number\")\n",
    "            break\n",
    "        else:\n",
    "            print(f\"The {num} is a prime number\")\n",
    "            break  \n",
    "else:\n",
    "    print(\"Enter a valid number\")"
   ]
  },
  {
   "cell_type": "markdown",
   "id": "e1343d3b-1124-4884-8ad7-3c15af845084",
   "metadata": {},
   "source": [
    "21. Write a Python program to assign grades based on different ranges of scores using elif statements."
   ]
  },
  {
   "cell_type": "code",
   "execution_count": 106,
   "id": "08d475e8-6e3d-4e26-866c-56065e85ab99",
   "metadata": {},
   "outputs": [
    {
     "name": "stdin",
     "output_type": "stream",
     "text": [
      "Enter the score: 5\n"
     ]
    },
    {
     "name": "stdout",
     "output_type": "stream",
     "text": [
      "The student has been graded with : F\n"
     ]
    }
   ],
   "source": [
    "score=float(input(\"Enter the score:\"))\n",
    "if score>90:\n",
    "    print(\"The student has been graded with : A+\")\n",
    "elif (score<70 and score>60) :\n",
    "    print(\"The student has been graded with : A\")\n",
    "elif (score>50 and score<60):\n",
    "    print(\"The student has been graded with : B\")\n",
    "elif (score>40 and score<50):\n",
    "    print(\"The student has been graded with : C\")    \n",
    "else:\n",
    "    print(\"The student has been graded with : F\")\n",
    "    \n",
    "    "
   ]
  },
  {
   "cell_type": "markdown",
   "id": "d91dfbb2-a01e-4b24-8f31-ce1e7389d600",
   "metadata": {},
   "source": [
    "22. Implement a program to determine the type of a triangle based on its angles."
   ]
  },
  {
   "cell_type": "code",
   "execution_count": 107,
   "id": "4b93fb94-f771-4dea-84ab-335fcacf7e40",
   "metadata": {},
   "outputs": [
    {
     "name": "stdin",
     "output_type": "stream",
     "text": [
      "Enter an angle: 33\n"
     ]
    },
    {
     "name": "stdout",
     "output_type": "stream",
     "text": [
      "The 33.0 angle is acute angle\n"
     ]
    }
   ],
   "source": [
    "a=float(input(\"Enter an angle:\"))\n",
    "if a<90 and a!=0:\n",
    "    print(f\"The {a} angle is acute angle\")\n",
    "elif a>90 and a<180:\n",
    "    print(f\"The {a} angle is obtuse angle\")\n",
    "elif a==90:\n",
    "    print(f\"The {a} angle is right angle\")\n",
    "else:\n",
    "    print(\"Enter a angle between 0 to 180\")"
   ]
  },
  {
   "cell_type": "markdown",
   "id": "020775ab-8079-4d1a-b10a-c34487d99744",
   "metadata": {},
   "source": [
    "23. Develop a program to categorize a given person's BMI into underweight, normal, overweight, or obese using\n",
    "elif statements."
   ]
  },
  {
   "cell_type": "code",
   "execution_count": 3,
   "id": "0d357150-4d2c-4e02-8c15-e25d7e2a8654",
   "metadata": {},
   "outputs": [
    {
     "name": "stdin",
     "output_type": "stream",
     "text": [
      "Enter your height in meters (e.g., 1.63):  1.72\n",
      "Enter your weight in kilograms (e.g., 72):  70\n"
     ]
    },
    {
     "name": "stdout",
     "output_type": "stream",
     "text": [
      "Your BMI is 23.66, and you are categorized as Normal Weight.\n"
     ]
    }
   ],
   "source": [
    "#function to calculate BMI\n",
    "def calculate_bmi(weight_kg, height_meter):\n",
    "    return weight_kg / (height_meter ** 2)\n",
    "\n",
    "# Input height and weight \n",
    "height = float(input(\"Enter your height in meters (e.g., 1.63): \"))\n",
    "weight = float(input(\"Enter your weight in kilograms (e.g., 72): \"))\n",
    "\n",
    "# Calculate BMI\n",
    "bmi = calculate_bmi(weight, height)\n",
    "\n",
    "if bmi < 18.5:\n",
    "    category = \"Underweight\"\n",
    "elif 18.5 <= bmi < 24.9:\n",
    "    category = \"Normal Weight\"\n",
    "elif 24.9 <= bmi < 29.9:\n",
    "    category = \"Overweight\"\n",
    "else:\n",
    "    category = \"Obese\"\n",
    "\n",
    "print(f\"Your BMI is {bmi:.2f}, and you are categorized as {category}.\")\n"
   ]
  },
  {
   "cell_type": "markdown",
   "id": "5a23d14e-fe6d-4ac1-a9d1-749fb29f0f86",
   "metadata": {},
   "source": [
    "24. Create a program that determines whether a given number is positive, negative, or zero using elif\n",
    "statements."
   ]
  },
  {
   "cell_type": "code",
   "execution_count": 6,
   "id": "ef88100a-e1dd-4048-a97a-523a6b35c89a",
   "metadata": {},
   "outputs": [
    {
     "name": "stdin",
     "output_type": "stream",
     "text": [
      "Enter a number: -1.2\n"
     ]
    },
    {
     "name": "stdout",
     "output_type": "stream",
     "text": [
      "-1.2 is negative\n"
     ]
    }
   ],
   "source": [
    "n=float(input(\"Enter a number:\"))\n",
    "if n==0:\n",
    "    print(\"The entered number is zero\")\n",
    "elif n>0:\n",
    "    print(f\"{n} is a positive number\")\n",
    "else:\n",
    "    print(f\"{n} is negative\")"
   ]
  },
  {
   "cell_type": "markdown",
   "id": "11f6447a-2fdb-47f8-b835-1c2dc7c799e1",
   "metadata": {},
   "source": [
    "25. Write a Python script to determine the type of a character (uppercase, lowercase, or special) using elif\n",
    "statements."
   ]
  },
  {
   "cell_type": "code",
   "execution_count": 6,
   "id": "578cc845-6593-43b0-87b3-e9fd86a2640b",
   "metadata": {},
   "outputs": [
    {
     "name": "stdin",
     "output_type": "stream",
     "text": [
      "Enter a script HAS\n"
     ]
    },
    {
     "name": "stdout",
     "output_type": "stream",
     "text": [
      "upper\n"
     ]
    }
   ],
   "source": [
    "char=input(\"Enter a script\")\n",
    "if char.isupper():\n",
    "    print(\"upper\")\n",
    "elif char.islower():\n",
    "    print(\"lower\")\n",
    "else:\n",
    "    print(\"spl\")\n"
   ]
  },
  {
   "cell_type": "markdown",
   "id": "cfab74aa-ffbf-47ca-bb75-0175a48e316b",
   "metadata": {},
   "source": [
    "26. Implement a program to calculate the discounted price based on different purchase amounts using elif\n",
    "statements."
   ]
  },
  {
   "cell_type": "code",
   "execution_count": 9,
   "id": "82eed80b-952e-4759-ae92-858f81fb3656",
   "metadata": {},
   "outputs": [
    {
     "name": "stdin",
     "output_type": "stream",
     "text": [
      "Enter the purchase amount:  899\n"
     ]
    },
    {
     "name": "stdout",
     "output_type": "stream",
     "text": [
      "Purchase amount: Rs899.00\n",
      "Discount percentage: 5%\n",
      "Discount: Rs44.95\n",
      "Discounted price: Rs854.05\n"
     ]
    }
   ],
   "source": [
    "purchase_amount = float(input(\"Enter the purchase amount: \"))\n",
    "\n",
    "if purchase_amount >= 1000:\n",
    "    discount_percentage = 10\n",
    "elif purchase_amount >= 500:\n",
    "    discount_percentage = 5\n",
    "else:\n",
    "    discount_percentage = 0\n",
    "\n",
    "discount = (purchase_amount * discount_percentage) / 100\n",
    "discounted_price = purchase_amount - discount\n",
    "\n",
    "print(f\"Purchase amount: Rs{purchase_amount:.2f}\")\n",
    "#'.2f'means the decimal point should be 2 \n",
    "print(f\"Discount percentage: {discount_percentage}%\")\n",
    "print(f\"Discount: Rs{discount:.2f}\")\n",
    "print(f\"Discounted price: Rs{discounted_price:.2f}\")\n"
   ]
  },
  {
   "cell_type": "markdown",
   "id": "b9dae127-062a-43d9-80b1-f66ebb678694",
   "metadata": {},
   "source": [
    "27. Develop a program to calculate the electricity bill based on different consumption slabs using elif\n",
    "statements."
   ]
  },
  {
   "cell_type": "code",
   "execution_count": 15,
   "id": "5dd43ea0-8bd4-483d-b622-6ade63966e94",
   "metadata": {},
   "outputs": [
    {
     "name": "stdin",
     "output_type": "stream",
     "text": [
      "Enter the electricity consumption in kWh:  223.2\n"
     ]
    },
    {
     "name": "stdout",
     "output_type": "stream",
     "text": [
      "Total bill: Rs61.96\n"
     ]
    }
   ],
   "source": [
    "consumption = float(input(\"Enter the electricity consumption in kWh: \"))\n",
    "\n",
    "# Definin the electricity rates for different consumption slabs\n",
    "rate_slab1 = 0.25  # for the first 100 kWh\n",
    "rate_slab2 = 0.30  # for the next 200 kWh\n",
    "rate_slab3 = 0.40  # for consumption above 300 kWh\n",
    "\n",
    "total_bill = 0.0\n",
    "\n",
    "if consumption <= 100:\n",
    "    total_bill = consumption * rate_slab1\n",
    "elif consumption <= 300:\n",
    "    total_bill = (100 * rate_slab1) + ((consumption - 100) * rate_slab2)\n",
    "else:\n",
    "    total_bill = (100 * rate_slab1) + (200 * rate_slab2) + ((consumption - 300) * rate_slab3)\n",
    "\n",
    "print(f\"Total bill: Rs{total_bill:.2f}\")\n"
   ]
  },
  {
   "cell_type": "markdown",
   "id": "0fdf5d8b-42a1-452d-90cd-032232ef4d12",
   "metadata": {},
   "source": [
    "28. Create a program to determine the type of quadrilateral based on its angles and sides using elif\n",
    "statements."
   ]
  },
  {
   "cell_type": "code",
   "execution_count": 20,
   "id": "def63fb0-22ef-4a97-9c3e-8539d498b2de",
   "metadata": {},
   "outputs": [
    {
     "name": "stdin",
     "output_type": "stream",
     "text": [
      "Enter the first angle in degrees:  90\n",
      "Enter the second angle in degrees:  90\n",
      "Enter the third angle in degrees:  90\n",
      "Enter the fourth angle in degrees:  90\n",
      "Enter the length of side 1:  2\n",
      "Enter the length of side 2:  2.2\n",
      "Enter the length of side 3:  2\n",
      "Enter the length of side 4:  33\n"
     ]
    },
    {
     "name": "stdout",
     "output_type": "stream",
     "text": [
      "The given quadrilateral is a Quadrilateral.\n"
     ]
    }
   ],
   "source": [
    "# Input the angles and sides of the quadrilateral from the user\n",
    "angle1 = float(input(\"Enter the first angle in degrees: \"))\n",
    "angle2 = float(input(\"Enter the second angle in degrees: \"))\n",
    "angle3 = float(input(\"Enter the third angle in degrees: \"))\n",
    "angle4 = float(input(\"Enter the fourth angle in degrees: \"))\n",
    "\n",
    "side1 = float(input(\"Enter the length of side 1: \"))\n",
    "side2 = float(input(\"Enter the length of side 2: \"))\n",
    "side3 = float(input(\"Enter the length of side 3: \"))\n",
    "side4 = float(input(\"Enter the length of side 4: \"))\n",
    "\n",
    "if angle1 == angle2 == angle3 == angle4 == 90:\n",
    "    if side1 == side2 == side3 == side4:\n",
    "        quadrilateral_type = \"Square\"\n",
    "    elif side1 == side2 and side3 == side4:\n",
    "        quadrilateral_type = \"Rectangle\"\n",
    "    else:\n",
    "        quadrilateral_type = \"Quadrilateral\"\n",
    "elif side1 == side2 == side3 == side4:\n",
    "    if angle1 == angle2 == angle3 == angle4:\n",
    "        quadrilateral_type = \"Rhombus\"\n",
    "    else:\n",
    "        quadrilateral_type = \"Parallelogram\"\n",
    "else:\n",
    "    quadrilateral_type = \"Generic Quadrilateral\"\n",
    "\n",
    "print(f\"The given quadrilateral is a {quadrilateral_type}.\")\n"
   ]
  },
  {
   "cell_type": "markdown",
   "id": "488ca707-3c55-4131-bc1b-e1266c3bae4c",
   "metadata": {},
   "source": [
    "29. Write a Python script to determine the season based on a user-provided month using elif statements."
   ]
  },
  {
   "cell_type": "code",
   "execution_count": 5,
   "id": "84c5451e-eab0-462b-9279-8efb56115c1d",
   "metadata": {},
   "outputs": [
    {
     "name": "stdin",
     "output_type": "stream",
     "text": [
      "Enter the month: June\n"
     ]
    },
    {
     "name": "stdout",
     "output_type": "stream",
     "text": [
      "The month of June is in rainy season\n"
     ]
    }
   ],
   "source": [
    "#spring (March, April, May), summer (June, July, August), \n",
    "#autumn (September, October, November) and winter (December, January, February)\n",
    "\n",
    "month=input(\"Enter the month:\")\n",
    "summer=('March','April','May')\n",
    "rainy=('June','July','August')\n",
    "autumn=('September','October','November')\n",
    "winter=('December','January','February')\n",
    "if month in rainy:\n",
    "    print(f\"The month of {month} is in rainy season\")\n",
    "elif month in summer:\n",
    "    print(f\"The month of {month} is in summer season\")\n",
    "elif month in autumn:\n",
    "    print(f\"The month of {month} is in autumn season\")\n",
    "else:    \n",
    "    print(f\"The month of {month} is in winter season\")\n",
    "    \n",
    "    "
   ]
  },
  {
   "cell_type": "markdown",
   "id": "41740e7f-d2a6-4061-b060-247df0a12708",
   "metadata": {},
   "source": [
    "30. Implement a program to determine the type of a year (leap or common) and month (30 or 31 days) using\n",
    "elif statements."
   ]
  },
  {
   "cell_type": "code",
   "execution_count": 5,
   "id": "29cb34e5-b042-4deb-b5d5-8a217094bc29",
   "metadata": {},
   "outputs": [
    {
     "name": "stdin",
     "output_type": "stream",
     "text": [
      "Enter a year:  2023\n",
      "Enter a month (1-12):  6\n"
     ]
    },
    {
     "name": "stdout",
     "output_type": "stream",
     "text": [
      "2023 is a Common Year, and the month 6 has 30 days.\n"
     ]
    }
   ],
   "source": [
    "year = int(input(\"Enter a year: \"))\n",
    "month = int(input(\"Enter a month (1-12): \"))\n",
    "\n",
    "if (year % 4 == 0 and year % 100 != 0) or (year % 400 == 0):\n",
    "    is_leap_year = True\n",
    "else:\n",
    "    is_leap_year = False\n",
    "\n",
    "if month in [1, 3, 5, 7, 8, 10, 12]:\n",
    "    days_in_month = 31\n",
    "elif month == 2:\n",
    "    if is_leap_year:\n",
    "        days_in_month = 29\n",
    "    else:\n",
    "        days_in_month = 28\n",
    "elif month in [4, 6, 9, 11]:\n",
    "    days_in_month = 30\n",
    "else:\n",
    "    days_in_month = None\n",
    "\n",
    "if is_leap_year:\n",
    "    year_type = \"Leap Year\"\n",
    "else:\n",
    "    year_type = \"Common Year\"\n",
    "\n",
    "if days_in_month is not None:\n",
    "    print(f\"{year} is a {year_type}, and the month {month} has {days_in_month} days.\")\n",
    "else:\n",
    "    print(\"Invalid month input. Please enter a month between 1 and 12.\")\n"
   ]
  },
  {
   "cell_type": "markdown",
   "id": "598063e0-500d-4d31-bd85-2b297cbb9611",
   "metadata": {},
   "source": [
    "1. Write a Python program that checks if a given number is positive, negative, or zero."
   ]
  },
  {
   "cell_type": "code",
   "execution_count": 8,
   "id": "fb37a669-957e-419d-a89a-18d3be0baf26",
   "metadata": {},
   "outputs": [
    {
     "name": "stdin",
     "output_type": "stream",
     "text": [
      "Enter a number 66\n"
     ]
    },
    {
     "name": "stdout",
     "output_type": "stream",
     "text": [
      "The 66 number is positive\n"
     ]
    }
   ],
   "source": [
    "num=int(input(\"Enter a number\"))\n",
    "if num>0:\n",
    "    print(f\"The {num} number is positive\")\n",
    "elif num==0:\n",
    "    print(f\"The {num} number is zero\")\n",
    "else:\n",
    "    print(f\"The {num} number is negative\")"
   ]
  },
  {
   "cell_type": "markdown",
   "id": "4815ee5e-8baa-4ce3-ac87-e3fc418f77ac",
   "metadata": {},
   "source": [
    "2. Create a program to determine if a person is eligible to vote based on their age."
   ]
  },
  {
   "cell_type": "code",
   "execution_count": 9,
   "id": "600c0dbe-cc20-4b70-8036-dc172b50e34e",
   "metadata": {},
   "outputs": [
    {
     "name": "stdin",
     "output_type": "stream",
     "text": [
      "Enter the age: 8\n"
     ]
    },
    {
     "name": "stdout",
     "output_type": "stream",
     "text": [
      "No,He is not eligible to vote\n"
     ]
    }
   ],
   "source": [
    "age=int(input(\"Enter the age:\"))\n",
    "if age>=18:\n",
    "    #a person show be be 18 or above to vote\n",
    "    print(\"Yes, He is eligible for voting\")\n",
    "else:\n",
    "    print(\"No,He is not eligible to vote\")"
   ]
  },
  {
   "cell_type": "markdown",
   "id": "8a1887b9-0ec7-40fd-b72f-a976c3530566",
   "metadata": {},
   "source": [
    "3. Write a program to find the maximum of two given numbers using conditional statements."
   ]
  },
  {
   "cell_type": "code",
   "execution_count": 10,
   "id": "e0b900e5-3d7e-4d91-a820-cb86a325ad2e",
   "metadata": {},
   "outputs": [
    {
     "name": "stdin",
     "output_type": "stream",
     "text": [
      "Enter first number: 4\n",
      "Enter second number: 33\n"
     ]
    },
    {
     "name": "stdout",
     "output_type": "stream",
     "text": [
      "33 is grater than 4\n"
     ]
    }
   ],
   "source": [
    "a=int(input(\"Enter first number:\"))\n",
    "b=int(input(\"Enter second number:\"))\n",
    "#checking if a is greater than b\n",
    "if a>b:\n",
    "    print(f\"{a} is greater than {b}\")\n",
    "else:\n",
    "    #if the if statemnet is false else statement will print\n",
    "    print(f\"{b} is grater than {a}\")"
   ]
  },
  {
   "cell_type": "markdown",
   "id": "9fc9c5eb-3b75-41d8-a754-956e5634be6a",
   "metadata": {},
   "source": [
    "4. Develop a program that calculates the grade of a student based on their exam score."
   ]
  },
  {
   "cell_type": "code",
   "execution_count": 11,
   "id": "9400df17-7d5c-4ff4-91c6-02dae5dc4d50",
   "metadata": {},
   "outputs": [
    {
     "name": "stdin",
     "output_type": "stream",
     "text": [
      "Enter the score: 55.4\n"
     ]
    },
    {
     "name": "stdout",
     "output_type": "stream",
     "text": [
      "The student has been graded with : B\n"
     ]
    }
   ],
   "source": [
    "score=float(input(\"Enter the score:\"))\n",
    "if score>90:\n",
    "    print(\"The student has been graded with : A+\")\n",
    "elif (score<70 and score>60) :\n",
    "    print(\"The student has been graded with : A\")\n",
    "elif (score>50 and score<60):\n",
    "    print(\"The student has been graded with : B\")\n",
    "elif (score>40 and score<50):\n",
    "    print(\"The student has been graded with : C\")    \n",
    "else:\n",
    "    print(\"The student has been graded with : F\")"
   ]
  },
  {
   "cell_type": "markdown",
   "id": "71f63e59-b395-41c3-9f5e-6977a0e2113d",
   "metadata": {},
   "source": [
    "5. Create a program that checks if a year is a leap year or not."
   ]
  },
  {
   "cell_type": "code",
   "execution_count": 12,
   "id": "802d5341-578c-43f8-913b-d63c4fe091c4",
   "metadata": {},
   "outputs": [
    {
     "name": "stdin",
     "output_type": "stream",
     "text": [
      "Enter a year:  2000\n"
     ]
    },
    {
     "name": "stdout",
     "output_type": "stream",
     "text": [
      "2000 is a leap year.\n"
     ]
    }
   ],
   "source": [
    "year = int(input(\"Enter a year: \"))\n",
    "\n",
    "# Checking if the inout is a leap year\n",
    "if (year % 4 == 0 and year % 100 != 0) or (year % 400 == 0):\n",
    "    print(f\"{year} is a leap year.\")\n",
    "else:\n",
    "    print(f\"{year} is not a leap year.\")"
   ]
  },
  {
   "cell_type": "markdown",
   "id": "94bb8a32-1811-4c5b-a22d-9543818e0709",
   "metadata": {},
   "source": [
    "6. Write a program to classify a triangle based on its sides' lengths."
   ]
  },
  {
   "cell_type": "code",
   "execution_count": 13,
   "id": "94741449-d23e-4dbb-8d98-92807a30fb3d",
   "metadata": {},
   "outputs": [
    {
     "name": "stdin",
     "output_type": "stream",
     "text": [
      "Enter first side: 2.3\n",
      "Enter second side: 4.2\n",
      "Enter third side: 5\n"
     ]
    },
    {
     "name": "stdout",
     "output_type": "stream",
     "text": [
      "The triangle is a 'scalene scalene'\n"
     ]
    }
   ],
   "source": [
    "a=float(input(\"Enter first side:\"))\n",
    "b=float(input(\"Enter second side:\"))\n",
    "c=float(input(\"Enter third side:\"))\n",
    "if c==a==b:\n",
    "    print(\"The triangle is a 'Equilateral traiangle'\")\n",
    "elif a==b and a!=c:\n",
    "    print(\"The triangle is a 'isosceles traiangle'\")\n",
    "else:\n",
    "    print(\"The triangle is a 'scalene scalene'\")"
   ]
  },
  {
   "cell_type": "markdown",
   "id": "469e2cca-9e0f-41b0-ade5-382decb54b4c",
   "metadata": {},
   "source": [
    "7. Build a program that determines the largest of three given numbers."
   ]
  },
  {
   "cell_type": "code",
   "execution_count": 14,
   "id": "747fc62f-5615-48f7-b55e-e16bfb7f13c2",
   "metadata": {},
   "outputs": [
    {
     "name": "stdin",
     "output_type": "stream",
     "text": [
      "Enter first number: 3.3\n",
      "Enter second number: 44.3\n",
      "Enter third number: 55\n"
     ]
    },
    {
     "name": "stdout",
     "output_type": "stream",
     "text": [
      "55.0 is grater than 3.3,44.3\n"
     ]
    }
   ],
   "source": [
    "a=float(input(\"Enter first number:\"))\n",
    "b=float(input(\"Enter second number:\"))\n",
    "c=float(input(\"Enter third number:\"))\n",
    "#checking if a is greater than b\n",
    "if a>b and a>c:\n",
    "    print(f\"{a} is greater than {b},{c}\")\n",
    "elif b>a and b>c:\n",
    "    print(f\"{b} is greater than {a},{c}\")\n",
    "else:\n",
    "    #if the abive if and elif statements is false else statement will print\n",
    "    print(f\"{c} is grater than {a},{b}\")"
   ]
  },
  {
   "cell_type": "markdown",
   "id": "981eb571-c499-47ac-baf1-d2befcbec01c",
   "metadata": {},
   "source": [
    "8. Develop a program that checks whether a character is a vowel or a consonant."
   ]
  },
  {
   "cell_type": "code",
   "execution_count": 11,
   "id": "1d922001-aa3e-4fa7-a04e-80863d64da2c",
   "metadata": {},
   "outputs": [
    {
     "name": "stdin",
     "output_type": "stream",
     "text": [
      "Enter a character:  k\n"
     ]
    },
    {
     "name": "stdout",
     "output_type": "stream",
     "text": [
      "k is a consonant\n"
     ]
    }
   ],
   "source": [
    "character = input(\"Enter a character: \")\n",
    "\n",
    "# to ensure the input is a single character\n",
    "if len(character) == 1:\n",
    "    # Convertin the input character to lowercase for case-insensitive checking\n",
    "    character = character.lower()\n",
    "\n",
    "    # Checking if it's a vowel or a consonant\n",
    "    if character in 'aeiou':\n",
    "        print(f\"{character} is a vowel\")\n",
    "    else:\n",
    "        print(f\"{character} is a consonant\")\n",
    "else:\n",
    "    print(\"Please enter a single character\")"
   ]
  },
  {
   "cell_type": "markdown",
   "id": "3b221122-78e8-41b8-9a5e-e815292c904f",
   "metadata": {},
   "source": [
    "9. Create a program to calculate the total cost of a shopping cart based on discounts."
   ]
  },
  {
   "cell_type": "code",
   "execution_count": 14,
   "id": "62b1ac1f-a68f-4fc8-b83d-1e0cc3fea2f0",
   "metadata": {},
   "outputs": [
    {
     "name": "stdin",
     "output_type": "stream",
     "text": [
      "Enter the quantity of Apple:  3\n",
      "Enter the quantity of banana:  6\n",
      "Enter the quantity of carrot:  5\n",
      "Enter the quantity of Kiwi:  4\n"
     ]
    },
    {
     "name": "stdout",
     "output_type": "stream",
     "text": [
      "Total cost before discounts: Rs325.00\n",
      "Total cost after discounts: Rs304.00\n"
     ]
    }
   ],
   "source": [
    "cart = {\"Apple\": 10.0,\"banana\": 20.0,\"carrot\": 15.0,\"Kiwi\": 25.0,}\n",
    "\n",
    "# discount rules (item name, minimum quantity for discount, discount percentage)\n",
    "discounts = [\n",
    "    (\"Apple\", 2, 10),  # 10% discount for item1 if you buy 2 or more\n",
    "    (\"banana\", 3, 15),  # 15% discount for item2 if you buy 3 or more\n",
    "]\n",
    "\n",
    "# Input the quantities of items \n",
    "quantities = {}\n",
    "for item in cart:\n",
    "    quantity = int(input(f\"Enter the quantity of {item}: \"))\n",
    "    quantities[item] = quantity\n",
    "\n",
    "# Calculating the total cost before discounts\n",
    "total_cost_before_discount = sum(cart[item] * quantities[item] for item in cart)\n",
    "\n",
    "# Calculating discounts and applying them\n",
    "total_cost_after_discount = total_cost_before_discount\n",
    "for item, min_quantity, discount_percentage in discounts:\n",
    "    if item in quantities and quantities[item] >= min_quantity:\n",
    "        discount = (cart[item] * quantities[item] * discount_percentage) / 100\n",
    "        total_cost_after_discount -= discount\n",
    "\n",
    "# Print the results\n",
    "print(f\"Total cost before discounts: Rs{total_cost_before_discount:.2f}\")\n",
    "print(f\"Total cost after discounts: Rs{total_cost_after_discount:.2f}\")\n"
   ]
  },
  {
   "cell_type": "markdown",
   "id": "db5fe83f-85ff-441a-86e0-69cb1eeb4c27",
   "metadata": {},
   "source": [
    "10. Write a program that checks if a given number is even or odd."
   ]
  },
  {
   "cell_type": "code",
   "execution_count": 19,
   "id": "7a39cf32-3530-41a2-be3b-c11fd8a6e7cc",
   "metadata": {},
   "outputs": [
    {
     "name": "stdin",
     "output_type": "stream",
     "text": [
      "Enter a number: 232341\n"
     ]
    },
    {
     "name": "stdout",
     "output_type": "stream",
     "text": [
      "232341 is odd\n"
     ]
    }
   ],
   "source": [
    "number=int(input(\"Enter a number:\"))\n",
    "if number%2==0:\n",
    "    #a number must be divisible by 2 to be an even number\n",
    "    print(f\"{number} is even\")\n",
    "else:\n",
    "    print(f\"{number} is odd\")"
   ]
  },
  {
   "cell_type": "markdown",
   "id": "bb04ad92-80d7-4d59-aa92-190075214cc8",
   "metadata": {},
   "source": [
    "11. Write a program that calculates the roots of a quadratic equation ."
   ]
  },
  {
   "cell_type": "code",
   "execution_count": 20,
   "id": "4cc5a2f0-b1d4-4fb7-8c40-c8d3cda16ee7",
   "metadata": {},
   "outputs": [
    {
     "name": "stdin",
     "output_type": "stream",
     "text": [
      "Enter the coefficient a:  32\n",
      "Enter the coefficient b:  12\n",
      "Enter the coefficient c:  11\n"
     ]
    },
    {
     "name": "stdout",
     "output_type": "stream",
     "text": [
      "The roots are complex: -0.1875 + 0.5555121510822243i and -0.1875 - 0.5555121510822243i\n"
     ]
    }
   ],
   "source": [
    "import math\n",
    "\n",
    "# The quadratic equation: ax^2 + bx + c = 0\n",
    "a = float(input(\"Enter the coefficient a: \"))\n",
    "b = float(input(\"Enter the coefficient b: \"))\n",
    "c = float(input(\"Enter the coefficient c: \"))\n",
    "\n",
    "# Calculating the discriminant (the value inside the square root)\n",
    "discriminant = b**2 - 4*a*c\n",
    "\n",
    "# Checking the nature of the roots using the discriminant\n",
    "if discriminant > 0:\n",
    "    # Two distinct real roots\n",
    "    root1 = (-b + math.sqrt(discriminant)) / (2*a)\n",
    "    root2 = (-b - math.sqrt(discriminant)) / (2*a)\n",
    "    print(f\"The roots are real and distinct: {root1} and {root2}\")\n",
    "elif discriminant == 0:\n",
    "    # One real root (repeated)\n",
    "    root = -b / (2*a)\n",
    "    print(f\"There is one real root (repeated): {root}\")\n",
    "else:\n",
    "    # Complex roots\n",
    "    real_part = -b / (2*a)\n",
    "    imaginary_part = math.sqrt(abs(discriminant)) / (2*a)\n",
    "    print(f\"The roots are complex: {real_part} + {imaginary_part}i and {real_part} - {imaginary_part}i\")\n"
   ]
  },
  {
   "cell_type": "markdown",
   "id": "684c0427-0c79-4215-8d08-9d084266d287",
   "metadata": {},
   "source": [
    "12. Create a program that determines the day of the week based on the day number (1-7)."
   ]
  },
  {
   "cell_type": "code",
   "execution_count": 22,
   "id": "c1aedc58-6805-4445-b59a-3fd310998da0",
   "metadata": {},
   "outputs": [
    {
     "name": "stdin",
     "output_type": "stream",
     "text": [
      "Enter a day 2\n"
     ]
    },
    {
     "name": "stdout",
     "output_type": "stream",
     "text": [
      "The day is Tuesday\n"
     ]
    }
   ],
   "source": [
    "day=int(input(\"Enter a day\"))\n",
    "if day==1:\n",
    "    print(\"The day is Monday\")\n",
    "elif day==2:\n",
    "    print(\"The day is Tuesday\")\n",
    "elif day==3:\n",
    "    print(\"The day is Wednesday\")    \n",
    "elif day==4:\n",
    "    print(\"The day is Thursday\")    \n",
    "elif day==5:\n",
    "    print(\"The day is Friday\")\n",
    "elif day==6:\n",
    "    print(\"The day is Saturday\")\n",
    "elif day==7:\n",
    "    print(\"The day is Sunday\")  \n",
    "else:\n",
    "    print(\"Enter a valid week number\")"
   ]
  },
  {
   "cell_type": "markdown",
   "id": "b207ac5f-5324-4984-bed4-8982911d7546",
   "metadata": {},
   "source": [
    "13. Develop a program that calculates the factorial of a given number using recursion."
   ]
  },
  {
   "cell_type": "code",
   "execution_count": 32,
   "id": "c3ff2ac1-0750-4615-b8e5-ed328df4c33d",
   "metadata": {},
   "outputs": [
    {
     "name": "stdin",
     "output_type": "stream",
     "text": [
      "Enter a non-negative integer:  0\n"
     ]
    },
    {
     "name": "stdout",
     "output_type": "stream",
     "text": [
      "The factorial of 0 is 1\n"
     ]
    }
   ],
   "source": [
    "def factorial(n):\n",
    "    # If n is 0 or 1, return 1\n",
    "    if n == 0 or n == 1:\n",
    "        return 1\n",
    "    # for recursive case: Calculating factorial using recursion\n",
    "    else:\n",
    "        return n * factorial(n - 1)\n",
    "\n",
    "num = int(input(\"Enter a non-negative integer: \"))\n",
    "\n",
    "# Checking if the input is non-negative\n",
    "if num < 0:\n",
    "    print(\"Factorial is undefined for negative numbers.\")\n",
    "else:\n",
    "    result = factorial(num)\n",
    "    print(f\"The factorial of {num} is {result}\")\n"
   ]
  },
  {
   "cell_type": "markdown",
   "id": "ad0bcf4d-edd7-4ef4-8a8d-23a2f2bf3531",
   "metadata": {},
   "source": [
    "14. Write a program to find the largest among three numbers without using the `max()` function."
   ]
  },
  {
   "cell_type": "code",
   "execution_count": 1,
   "id": "98505858-4846-4677-bf84-266d362ecefa",
   "metadata": {},
   "outputs": [
    {
     "name": "stdin",
     "output_type": "stream",
     "text": [
      "Enter first number: 2\n",
      "Enter second number: 3\n",
      "Enter third number: 4\n"
     ]
    },
    {
     "name": "stdout",
     "output_type": "stream",
     "text": [
      "4.0 is grater than 2.0,3.0\n"
     ]
    }
   ],
   "source": [
    "a=float(input(\"Enter first number:\"))\n",
    "b=float(input(\"Enter second number:\"))\n",
    "c=float(input(\"Enter third number:\"))\n",
    "#checking if a is greater than b\n",
    "if a>b and a>c:\n",
    "    print(f\"{a} is greater than {b},{c}\")\n",
    "elif b>a and b>c:\n",
    "    print(f\"{b} is greater than {a},{c}\")\n",
    "else:\n",
    "    #if the abive if and elif statements is false else statement will print\n",
    "    print(f\"{c} is grater than {a},{b}\")"
   ]
  },
  {
   "cell_type": "markdown",
   "id": "ec9a1333-a8c2-41d0-8d16-14a43fdf8c95",
   "metadata": {},
   "source": [
    "15. Create a program that simulates a basic ATM transaction menu."
   ]
  },
  {
   "cell_type": "code",
   "execution_count": 1,
   "id": "c348ebc1-1289-42c2-acce-8d7646bf16fa",
   "metadata": {},
   "outputs": [
    {
     "name": "stdout",
     "output_type": "stream",
     "text": [
      "\n",
      "ATM Menu:\n",
      "1. Check Balance\n",
      "2. Deposite Money\n",
      "3. Withdraw Money\n",
      "4. Exit\n"
     ]
    },
    {
     "name": "stdin",
     "output_type": "stream",
     "text": [
      "Please select an open(1/2/3/4) : 3\n",
      "Enter th amount to withdraw : 2000000\n"
     ]
    },
    {
     "name": "stdout",
     "output_type": "stream",
     "text": [
      "Insufficient funds\n",
      "\n",
      "ATM Menu:\n",
      "1. Check Balance\n",
      "2. Deposite Money\n",
      "3. Withdraw Money\n",
      "4. Exit\n"
     ]
    },
    {
     "name": "stdin",
     "output_type": "stream",
     "text": [
      "Please select an open(1/2/3/4) : 4\n"
     ]
    },
    {
     "name": "stdout",
     "output_type": "stream",
     "text": [
      "Thank you\n"
     ]
    }
   ],
   "source": [
    "balance=100000\n",
    "def check_balance():\n",
    "    print(f\"Your account balance is {balance}\")\n",
    "def deposite_money():\n",
    "    global balance\n",
    "    deposite=float(input(\"Enter the amount to deposite: RS\"))\n",
    "    if deposite>0:\n",
    "        balance += deposite\n",
    "        print(f\"{deposite} deposited sucessfully\")\n",
    "    else:\n",
    "            print(\"Invalid amount. Please enter a positive amount\")\n",
    "def withdraw_money():\n",
    "    global balance\n",
    "    withdraw=float(input(\"Enter th amount to withdraw :\"))\n",
    "    if withdraw<=balance:\n",
    "        balance-=withdraw\n",
    "        print(f\"rs{withdraw} has been withdrawn successfully\")\n",
    "    elif withdraw<=0:\n",
    "            print(\"Invalid amount. Please enter a positive amount\")\n",
    "    else:\n",
    "            print(\"Insufficient funds\")\n",
    "    \n",
    "while True:\n",
    "    print(\"\\nATM Menu:\")\n",
    "    print(\"1. Check Balance\")\n",
    "    print(\"2. Deposite Money\")\n",
    "    print(\"3. Withdraw Money\")\n",
    "    print(\"4. Exit\")\n",
    "    select_a_menu = input(\"Please select an open(1/2/3/4) :\")\n",
    "    if select_a_menu=='1':\n",
    "        check_balance()\n",
    "    elif select_a_menu=='2':\n",
    "        deposite_money()\n",
    "    elif  select_a_menu=='3':\n",
    "        withdraw_money()\n",
    "    elif select_a_menu=='4':\n",
    "        print(\"Thank you\")\n",
    "        break\n",
    "    #until we select 4 the loop continues    \n",
    "    else:\n",
    "        print(\"Invalid choice. Please enter a valid option.\")"
   ]
  },
  {
   "cell_type": "markdown",
   "id": "61088026-6354-4a70-8c10-186dc77ecb56",
   "metadata": {},
   "source": [
    "16. Build a program that checks if a given string is a palindrome or not."
   ]
  },
  {
   "cell_type": "code",
   "execution_count": 2,
   "id": "b325ad7a-74aa-43cf-87d3-ca0aa5d8cd6b",
   "metadata": {},
   "outputs": [
    {
     "name": "stdin",
     "output_type": "stream",
     "text": [
      "Enter a string:  sara is a lead\n"
     ]
    },
    {
     "name": "stdout",
     "output_type": "stream",
     "text": [
      "saraisalead is not a palindrome.\n"
     ]
    }
   ],
   "source": [
    "# Input a string from the user\n",
    "string = input(\"Enter a string: \")\n",
    "\n",
    "# if the string contains space it will remove spaces and convert the string to lowercase for comparison\n",
    "string = string.replace(\" \", \"\").lower()\n",
    "\n",
    "# Reversing the string\n",
    "reverse_string = string[::-1]\n",
    "\n",
    "if string == reverse_string:\n",
    "    print(f\"{string} is a palindrome.\")\n",
    "else:\n",
    "    print(f\"{string} is not a palindrome.\")"
   ]
  },
  {
   "cell_type": "markdown",
   "id": "ec683697-3adc-4ab8-9388-a160e166d6c4",
   "metadata": {},
   "source": [
    "17. Write a program that calculates the average of a list of numbers, excluding the smallest and largest values."
   ]
  },
  {
   "cell_type": "code",
   "execution_count": 12,
   "id": "550e4ba8-dbf2-4a15-b35b-aeef54c90739",
   "metadata": {},
   "outputs": [
    {
     "name": "stdin",
     "output_type": "stream",
     "text": [
      "Enter a list of numbers 22,3,4,3\n"
     ]
    },
    {
     "name": "stdout",
     "output_type": "stream",
     "text": [
      "The smallest value is 3\n",
      "The largest value is 22\n",
      "The average excluding the smallest and largest values of the list is: 4.0\n"
     ]
    }
   ],
   "source": [
    "def avg_without_minandmax(numbers):\n",
    "    if len(numbers)<=2:\n",
    "        return \"The list must contain atleast 3 numbers\"\n",
    "    min_val=min(numbers)\n",
    "    print(\"The smallest value is\",min_val)\n",
    "    max_val=max(numbers)\n",
    "    print(\"The largest value is\",max_val)\n",
    "    fil_num=[num for num in numbers if num != min_val and num != max_val]\n",
    "    avg=sum(fil_num)/len(fil_num)\n",
    "    return avg\n",
    "numbers=input(\"Enter a list of numbers\")\n",
    "numbers_=list(map(int,numbers.split(',')))\n",
    "result=avg_without_minandmax(numbers_)\n",
    "if isinstance(result,float):\n",
    "    print(f\"The average excluding the smallest and largest values of the list is: {result}\")\n",
    "else:\n",
    "    print(result)\n",
    "    \n"
   ]
  },
  {
   "cell_type": "markdown",
   "id": "052ca52b-f78e-4a91-9f68-7b918b8ff420",
   "metadata": {},
   "source": [
    "18. Develop a program that converts a given temperature from Celsius to Fahrenheit."
   ]
  },
  {
   "cell_type": "code",
   "execution_count": 14,
   "id": "1dba3996-ed14-4a32-9e62-41d75502730e",
   "metadata": {},
   "outputs": [
    {
     "name": "stdin",
     "output_type": "stream",
     "text": [
      "Enter the Temperature in Celsius :\n",
      " -99\n"
     ]
    },
    {
     "name": "stdout",
     "output_type": "stream",
     "text": [
      "Temperature in Fahrenheit : -146.20000000000002\n"
     ]
    }
   ],
   "source": [
    "celsius = int(input(\"Enter the Temperature in Celsius :\\n\"))\n",
    "fahrenheit = (1.8 * celsius) + 32.\n",
    "print(\"Temperature in Fahrenheit :\", fahrenheit)"
   ]
  },
  {
   "cell_type": "markdown",
   "id": "89836c6a-b7db-42ad-90dd-7a4606b9b46b",
   "metadata": {},
   "source": [
    "19. Create a program that simulates a basic calculator for addition, subtraction, multiplication, and division."
   ]
  },
  {
   "cell_type": "code",
   "execution_count": 18,
   "id": "6f66163c-83f5-404a-95b4-b993317c3fb3",
   "metadata": {},
   "outputs": [
    {
     "name": "stdin",
     "output_type": "stream",
     "text": [
      "Enter the operator(add/sub/multiply/division): add\n",
      "enter 1st num 3\n",
      "enter 2nd num 2222\n"
     ]
    },
    {
     "name": "stdout",
     "output_type": "stream",
     "text": [
      "2225\n"
     ]
    }
   ],
   "source": [
    "user=input(\"Enter the operator(add/sub/multiply/division):\")\n",
    "num1=int(input(\"enter 1st num\"))\n",
    "num2=int(input(\"enter 2nd num\"))\n",
    "if user=='add':\n",
    "    print(num1+num2)\n",
    "elif user=='sub':\n",
    "    print(num1-num2)\n",
    "elif user=='multiply':\n",
    "    print(num1*num2)\n",
    "elif user=='division':\n",
    "    print(num1/num2)\n",
    "else:\n",
    "    print(\"invalid input\")\n"
   ]
  },
  {
   "cell_type": "markdown",
   "id": "e7ca5881-6027-4857-abb3-4a6171ff73f7",
   "metadata": {},
   "source": [
    "20. Write a program that determines the roots of a cubic equation using the Cardano formula."
   ]
  },
  {
   "cell_type": "code",
   "execution_count": 1,
   "id": "61f84b9d-2379-430c-8b6b-aeb23b372978",
   "metadata": {},
   "outputs": [
    {
     "name": "stdout",
     "output_type": "stream",
     "text": [
      "Roots of the cubic equation: ((3.5176989980941027+1.6742562698417907j), (3.5176989980941027-1.6742562698417907j), (3.5176989980941027-1.6742562698417907j))\n"
     ]
    }
   ],
   "source": [
    "def cubic_roots(a, b, c, d):\n",
    "    p = c / a - (b ** 2) / (3 * a ** 2)\n",
    "    q = (2 * (b ** 3)) / (27 * a ** 3) - (b * c) / (3 * a ** 2) + d / a\n",
    "\n",
    "    discriminant = (q ** 2) / 4 + (p ** 3) / 27\n",
    "\n",
    "    if discriminant > 0:\n",
    "        # One real root and two complex roots\n",
    "        u = (-q / 2 + discriminant ** 0.5) ** (1 / 3)\n",
    "        v = (-q / 2 - discriminant ** 0.5) ** (1 / 3)\n",
    "        real_root = u + v - b / (3 * a)\n",
    "        imaginary_part = (3 ** 0.5 * (u - v)) / 2\n",
    "        complex_root1 = complex(real_root, imaginary_part)\n",
    "        complex_root2 = complex_root3 = complex_root1.conjugate()\n",
    "    elif discriminant == 0:\n",
    "        # All roots are real and at least two are equal\n",
    "        if q >= 0:\n",
    "            real_root = (-(q / 2) ** (1 / 3)) * 2 - b / (3 * a)\n",
    "            complex_root1 = complex(real_root, 0)\n",
    "            complex_root2 = complex_root3 = complex_root1\n",
    "        else:\n",
    "            real_root = ((-q / 2) ** (1 / 3)) * 2 - b / (3 * a)\n",
    "            complex_root1 = complex(real_root, 0)\n",
    "            real_root = -real_root - b / (3 * a)\n",
    "            complex_root2 = complex(real_root, 0)\n",
    "            complex_root3 = complex_root1.conjugate()\n",
    "    else:\n",
    "        # Three real roots\n",
    "        rho = ((q ** 2) / 4 + (p ** 3) / 27) ** 0.5\n",
    "        theta = math.acos(-q / (2 * rho))\n",
    "        root1 = 2 * (-p / 3) ** 0.5 * math.cos(theta / 3) - b / (3 * a)\n",
    "        root2 = 2 * (-p / 3) ** 0.5 * math.cos((theta + 2 * math.pi) / 3) - b / (3 * a)\n",
    "        root3 = 2 * (-p / 3) ** 0.5 * math.cos((theta + 4 * math.pi) / 3) - b / (3 * a)\n",
    "        complex_root1 = complex(root1, 0)\n",
    "        complex_root2 = complex(root2, 0)\n",
    "        complex_root3 = complex(root3, 0)\n",
    "\n",
    "    return complex_root1, complex_root2, complex_root3\n",
    "a = 2\n",
    "b = -3\n",
    "c = 12\n",
    "d = -3\n",
    "roots = cubic_roots(a, b, c, d)\n",
    "print(\"Roots of the cubic equation:\", roots)\n"
   ]
  },
  {
   "cell_type": "markdown",
   "id": "ac7d3d46-b516-4fb3-a843-343a3892071c",
   "metadata": {},
   "source": [
    "21. Create a program that calculates the income tax based on the user's income and tax brackets."
   ]
  },
  {
   "cell_type": "code",
   "execution_count": 7,
   "id": "81876408-ba27-487f-aa0e-397dc53109f4",
   "metadata": {},
   "outputs": [
    {
     "name": "stdin",
     "output_type": "stream",
     "text": [
      "Enter your income: ₹ 500000\n"
     ]
    },
    {
     "name": "stdout",
     "output_type": "stream",
     "text": [
      "Your income tax is: ₹10000.00\n"
     ]
    }
   ],
   "source": [
    "def calculate_income_tax(income):\n",
    "    # Definin tax slabs and rates for India FY 2021-2022\n",
    "    slabs = [(250000, 500000), (500001, 1000000)]\n",
    "    rates = [0.05, 0.20, 0.30]\n",
    "    rebate = 2500  # Rebate under section 87A\n",
    "\n",
    "    tax = 0\n",
    "    remaining_income = income\n",
    "    #zip(iterable1, iterable2, ...)\n",
    "    for slab, rate in zip(slabs, rates):\n",
    "        min_income, max_income = slab\n",
    "\n",
    "        if remaining_income <= 0:\n",
    "            break\n",
    "\n",
    "        taxable_amount = min(remaining_income, max_income) - min_income\n",
    "        if taxable_amount > 0:\n",
    "            tax += taxable_amount * rate\n",
    "\n",
    "        remaining_income -= taxable_amount\n",
    "\n",
    "    # Applyin rebate under section 87A\n",
    "    if income <= 500000:\n",
    "        tax = max(0, tax - rebate)\n",
    "\n",
    "    return tax\n",
    "\n",
    "# Input the user's income\n",
    "try:\n",
    "    income = float(input(\"Enter your income: ₹\"))\n",
    "    if income < 0:\n",
    "        print(\"Income should be a positive number.\")\n",
    "    else:\n",
    "        tax = calculate_income_tax(income)\n",
    "        print(f\"Your income tax is: ₹{tax:.2f}\")\n",
    "except ValueError:\n",
    "    print(\"Invalid input. Please enter a valid income as a number.\")\n"
   ]
  },
  {
   "cell_type": "markdown",
   "id": "75eb6286-7327-4bb4-b06b-9be0bd9da716",
   "metadata": {},
   "source": [
    "22. Write a program that simulates a rock-paper-scissors game against the computer."
   ]
  },
  {
   "cell_type": "code",
   "execution_count": 13,
   "id": "55bc09f0-c990-4649-87fa-2ae3292fedd3",
   "metadata": {},
   "outputs": [
    {
     "name": "stdin",
     "output_type": "stream",
     "text": [
      "Enter your name: Namitha\n"
     ]
    },
    {
     "name": "stdout",
     "output_type": "stream",
     "text": [
      "!!! Namitha, Welcome to Rock/Paper/Scissors Game!!!\n"
     ]
    },
    {
     "name": "stdin",
     "output_type": "stream",
     "text": [
      "Namitha, Enter input:  Rock\n"
     ]
    },
    {
     "name": "stdout",
     "output_type": "stream",
     "text": [
      "Namitha's choice: Rock\n",
      "Computer output is : Scissors\n"
     ]
    },
    {
     "data": {
      "text/plain": [
       "'You win!'"
      ]
     },
     "execution_count": 13,
     "metadata": {},
     "output_type": "execute_result"
    }
   ],
   "source": [
    "import random\n",
    "pick=['Rock','Paper','Scissors']\n",
    "user_name=input(\"Enter your name:\")\n",
    "print(f\"!!! {user_name}, Welcome to Rock/Paper/Scissors Game!!!\")\n",
    "def user_input():\n",
    "    user_input=input(f\"{user_name}, Enter input: \")\n",
    "    if user_input in pick:\n",
    "        return user_input\n",
    "    else:\n",
    "        print(\"Enter a valid input.\")\n",
    "def comp_input():\n",
    "    comp_input=random.choice(pick)\n",
    "    return comp_input\n",
    "def winner(user_input, comp_input):\n",
    "    if user_input == comp_input:\n",
    "        return \"It's a tie!\"\n",
    "    elif (\n",
    "        (user_input == \"Rock\" and comp_input == \"Scissors\") or\n",
    "        (user_input == \"Scissors\" and comp_input == \"Paper\") or\n",
    "        (user_input == \"Paper\" and comp_input == \"Rock\")\n",
    "    ):\n",
    "        return \"You win!\"\n",
    "    else:\n",
    "        return \"Computer wins!\"  \n",
    "\n",
    "user_choice=user_input()\n",
    "computer_output=comp_input()\n",
    "print(f\"{user_name}'s choice:\",user_choice)\n",
    "print(\"Computer output is :\",computer_output)\n",
    "winner(user_choice,computer_output)      \n",
    "    "
   ]
  },
  {
   "cell_type": "markdown",
   "id": "b6fb6440-324f-47d0-bba3-956c1d863115",
   "metadata": {},
   "source": [
    "23. Develop a program that generates a random password based on user preferences (length, complexity)."
   ]
  },
  {
   "cell_type": "code",
   "execution_count": 3,
   "id": "0256aa7b-593f-4edf-8909-898be90bc634",
   "metadata": {},
   "outputs": [
    {
     "name": "stdin",
     "output_type": "stream",
     "text": [
      "Enter the length of the password:  8\n",
      "Enter 'true' if numbers are needed in password, 'false' otherwise:  false\n",
      "Enter 'true' if punctuation is needed in password, 'false' otherwise:  true\n",
      "Enter 'true' if characters are needed in password, 'false' otherwise:  true\n",
      "Enter 'upper' if you want uppercase letters, 'lower' if you want lowercase letters, 'both' for both cases:  both\n"
     ]
    },
    {
     "name": "stdout",
     "output_type": "stream",
     "text": [
      "Randomly generated password is: 3ogNHsBR\n"
     ]
    }
   ],
   "source": [
    "import random\n",
    "import string\n",
    "\n",
    "length = int(input(\"Enter the length of the password: \"))\n",
    "num = input(\"Enter 'true' if numbers are needed in password, 'false' otherwise: \").lower()\n",
    "charnum = string.digits if num == 'true' else ''\n",
    "\n",
    "pun = input(\"Enter 'true' if punctuation is needed in password, 'false' otherwise: \").lower()\n",
    "char1 = string.punctuation if pun == 'true' else ''\n",
    "\n",
    "passstring = input(\"Enter 'true' if characters are needed in password, 'false' otherwise: \").lower()\n",
    "charstring = string.ascii_letters if passstring == 'true' else ''\n",
    "\n",
    "case = input(\"Enter 'upper' if you want uppercase letters, 'lower' if you want lowercase letters, 'both' for both cases: \").lower()\n",
    "if case == 'upper':\n",
    "    character += string.ascii_uppercase\n",
    "elif case == 'both':\n",
    "    character += string.ascii_letters\n",
    "\n",
    "if character == '':\n",
    "    print(\"No character types selected. Please select at least one.\")\n",
    "else:\n",
    "    password = ''.join(random.choice(character) for i in range(length))\n",
    "    print(\"Randomly generated password is:\", password)\n"
   ]
  },
  {
   "cell_type": "markdown",
   "id": "6e91b46c-79f8-4845-b47e-d79647210d9a",
   "metadata": {},
   "source": [
    "24. Create a program that implements a simple text-based adventure game with branching scenarios."
   ]
  },
  {
   "cell_type": "code",
   "execution_count": 7,
   "id": "c3116e01-0bb1-4b89-96ae-275faab5590d",
   "metadata": {},
   "outputs": [
    {
     "name": "stdout",
     "output_type": "stream",
     "text": [
      "Welcome to the Text Adventure Game!\n",
      "\"You are on a empty road.\n",
      "There is a 1000 rupee note on round.\"\n",
      "1. You will pick the note and go away.\n",
      "2. You will ask near by people if it is theirs.\n",
      "3. you will ignore and walk away.\n",
      "4. If it is no one's note you will donate it to the poor.\n",
      "5. You will take it and walk away.\n",
      "6. Exit.\n",
      "\n"
     ]
    },
    {
     "name": "stdin",
     "output_type": "stream",
     "text": [
      "Enter your choice from the above: 2\n"
     ]
    },
    {
     "name": "stdout",
     "output_type": "stream",
     "text": [
      "How genorous of you!!\n",
      "So if is not any one's note what will you do????\n"
     ]
    },
    {
     "name": "stdin",
     "output_type": "stream",
     "text": [
      "Enter your choice from the above: 4\n"
     ]
    },
    {
     "name": "stdout",
     "output_type": "stream",
     "text": [
      "WoW!\n"
     ]
    },
    {
     "name": "stdin",
     "output_type": "stream",
     "text": [
      "Enter your choice from the above: 6\n"
     ]
    },
    {
     "name": "stdout",
     "output_type": "stream",
     "text": [
      "Thanks for playing the Text Adventure Game!\n"
     ]
    }
   ],
   "source": [
    "print(\"Welcome to the Text Adventure Game!\")\n",
    "print('''\"You are on a empty road.\n",
    "There is a 1000 rupee note on round.\"\n",
    "1. You will pick the note and go away.\n",
    "2. You will ask near by people if it is theirs.\n",
    "3. you will ignore and walk away.\n",
    "4. If it is no one's note you will donate it to the poor.\n",
    "5. You will take it and walk away.\n",
    "6. Exit.\n",
    "''')\n",
    "while True:\n",
    "    choice=input(\"Enter your choice from the above:\")\n",
    "    if choice=='1':\n",
    "        print(\"You have picked the note, So what will you do next????\") \n",
    "    elif choice=='2':\n",
    "        print('''How genorous of you!!\n",
    "So if is not any one's note what will you do????''') \n",
    "    elif choice=='3' :\n",
    "        print(\"You ignored and walked away.\")\n",
    "    elif choice=='4':\n",
    "        print(\"WoW!\")\n",
    "    elif choice=='5':\n",
    "        print(\"Nice!!\")\n",
    "    else:\n",
    "        break\n",
    "print(\"Thanks for playing the Text Adventure Game!\")        "
   ]
  },
  {
   "cell_type": "markdown",
   "id": "12fc2a17-d5cc-4ad4-9a62-48bf3e463b4d",
   "metadata": {},
   "source": [
    "25. Build a program that solves a linear equation for x, considering different cases."
   ]
  },
  {
   "cell_type": "code",
   "execution_count": 34,
   "id": "5cffbe44-bf69-4794-89ce-b99137757962",
   "metadata": {},
   "outputs": [
    {
     "name": "stdin",
     "output_type": "stream",
     "text": [
      "Enter a linear equation (e.g., '2x + 3 = 7'):  4x + 4 =1\n"
     ]
    },
    {
     "name": "stdout",
     "output_type": "stream",
     "text": [
      "x = -1.0\n"
     ]
    }
   ],
   "source": [
    "def linear_equation(equation):\n",
    "    equation_sides = equation.split('=')\n",
    "    if len(equation_sides) != 2:\n",
    "        return \"Invalid equation format\"\n",
    "\n",
    "    left_expression, right_expression = equation_sides[0].strip(), equation_sides[1].strip()\n",
    "    if 'x' not in left_expression and 'x' not in right_expression:\n",
    "        return \"No 'x' variable in the equation\"\n",
    "    left_coefficient = 0\n",
    "    right_constant = 0\n",
    "    if 'x' in left_expression:\n",
    "        left_terms = left_expression.split('+')\n",
    "        for term in left_terms:\n",
    "            term = term.strip()\n",
    "            if 'x' in term:\n",
    "                left_coefficient += float(term.split('x')[0])\n",
    "            else:\n",
    "                right_constant -= float(term)\n",
    "    if 'x' in right_expression:\n",
    "        right_terms = right_expression.split('+')\n",
    "        for term in right_terms:\n",
    "            term = term.strip()\n",
    "            if 'x' in term:\n",
    "                left_coefficient -= float(term.split('x')[0])\n",
    "            else:\n",
    "                right_constant += float(term)\n",
    "    if left_coefficient == 0:\n",
    "        if right_constant == 0:\n",
    "            return \"Infinite solutions (identity equation)\"\n",
    "        else:\n",
    "            return \"No solution\"\n",
    "    else:\n",
    "        x_value = right_constant / left_coefficient\n",
    "        return f\"x = {x_value}\"\n",
    "\n",
    "if __name__ == \"__main__\":\n",
    "    equation = input(\"Enter a linear equation (e.g., '2x + 3 = 7'): \")\n",
    "    result = linear_equation(equation)\n",
    "    print(result)\n"
   ]
  },
  {
   "cell_type": "markdown",
   "id": "84f29716-dd12-429c-b9b0-23a01ea7c0a9",
   "metadata": {},
   "source": [
    "26. Write a program that simulates a basic quiz game with multiple-choice questions and scoring."
   ]
  },
  {
   "cell_type": "code",
   "execution_count": 6,
   "id": "f43e306a-fe25-40b9-a71d-ed9a1212b25b",
   "metadata": {},
   "outputs": [
    {
     "name": "stdout",
     "output_type": "stream",
     "text": [
      "1. a,e,i,o,u are _____\n",
      "A. Vowels\n",
      "B. Constants\n",
      "C. Numbers\n"
     ]
    },
    {
     "name": "stdin",
     "output_type": "stream",
     "text": [
      "Enter your answer : c\n"
     ]
    },
    {
     "name": "stdout",
     "output_type": "stream",
     "text": [
      "Wrong! The answer is A\n",
      "\n",
      "2. ____Omelette\n",
      "A. a\n",
      "B. an\n",
      "C. the\n",
      "D. none of the above\n"
     ]
    },
    {
     "name": "stdin",
     "output_type": "stream",
     "text": [
      "Enter your answer : c\n"
     ]
    },
    {
     "name": "stdout",
     "output_type": "stream",
     "text": [
      "Wrong! The answer is B\n",
      "\n",
      "3. The dog is sleeping _____ the table.\n",
      "A. in\n",
      "B. Under\n",
      "C. Near\n",
      "D.None of the above\n"
     ]
    },
    {
     "name": "stdin",
     "output_type": "stream",
     "text": [
      "Enter your answer : c\n"
     ]
    },
    {
     "name": "stdout",
     "output_type": "stream",
     "text": [
      "Wrong! The answer is B\n",
      "\n",
      "Final score is : 0/3\n"
     ]
    }
   ],
   "source": [
    "questions= [{\"Q\":\"1. a,e,i,o,u are _____\", \"options\":[\"A. Vowels\",\"B. Constants\",\"C. Numbers\"],\"crt_answer\":\"A\"},\n",
    "           {\"Q\":\"2. ____Omelette\",\"options\":[\"A. a\",\"B. an\",\"C. the\",\"D. none of the above\"],\"crt_answer\":\"B\"},\n",
    "            {\"Q\":\"3. The dog is sleeping _____ the table.\",\"options\":[\"A. in\",\"B. Under\",\"C. Near\",\"D.None of the above\"],\"crt_answer\":\"B\"}]\n",
    "score=0\n",
    "def quize_questions(question_data):\n",
    "    global score\n",
    "    print(question_data[\"Q\"])\n",
    "    for option in question_data[\"options\"]:\n",
    "        print(option)\n",
    "    answer=input(\"Enter your answer :\").upper()\n",
    "    if answer==question_data[\"crt_answer\"]:\n",
    "        print(\"Correct!\\n\")\n",
    "        score+=1\n",
    "    else:\n",
    "        print(f\"Wrong! The answer is {question_data['crt_answer']}\\n\")\n",
    "for Q in questions:\n",
    "    quize_questions(Q)\n",
    "print(f\"Final score is : {score}/{len(questions)}\")    \n",
    "              "
   ]
  },
  {
   "cell_type": "markdown",
   "id": "7319746c-449a-4ca0-b65b-144bf80c2986",
   "metadata": {},
   "source": [
    "27. Develop a program that determines whether a given year is a prime number or not."
   ]
  },
  {
   "cell_type": "code",
   "execution_count": 10,
   "id": "b521c044-af7d-4ba0-b469-6c1a5843e903",
   "metadata": {},
   "outputs": [
    {
     "name": "stdin",
     "output_type": "stream",
     "text": [
      "Enter a year:  1999\n"
     ]
    },
    {
     "name": "stdout",
     "output_type": "stream",
     "text": [
      "1999 is a prime year\n"
     ]
    }
   ],
   "source": [
    "def is_prime(year):\n",
    "    if year <= 1:\n",
    "        return False\n",
    "    if year <= 3:\n",
    "        return True\n",
    "    if year % 2 == 0 or year % 3 == 0:\n",
    "        return False\n",
    "    i = 5\n",
    "    while i * i <= year:\n",
    "        if year % i == 0 or year % (i + 2) == 0:\n",
    "            return False\n",
    "        i += 6\n",
    "    return True\n",
    "\n",
    "year = int(input(\"Enter a year: \"))\n",
    "if is_prime(year):\n",
    "    print(f\"{year} is a prime year\")\n",
    "else:\n",
    "    print(f\"{year} is not a prime year\")\n"
   ]
  },
  {
   "cell_type": "markdown",
   "id": "5e2f3997-2d60-4a30-91f9-c6bc9846b68f",
   "metadata": {},
   "source": [
    "28. Create a program that sorts three numbers in ascending order using conditional statements."
   ]
  },
  {
   "cell_type": "code",
   "execution_count": 11,
   "id": "5e938c6e-d56f-41e3-94e1-f0d73f379115",
   "metadata": {},
   "outputs": [
    {
     "name": "stdout",
     "output_type": "stream",
     "text": [
      "[2, 21, 33, 88, 99]\n"
     ]
    }
   ],
   "source": [
    "number=[88,33,2,99,21]\n",
    "n=len(number)\n",
    "for i in range(n):\n",
    "      min_index=i\n",
    "      for j in range(i+1,n):\n",
    "          if number[j]<number[min_index]:\n",
    "                min_index=j\n",
    "      number[i],number[min_index]=number[min_index],number[i]\n",
    "print(number)      "
   ]
  },
  {
   "cell_type": "markdown",
   "id": "24482048-fc7f-4c8b-9be9-6dfda350fcfb",
   "metadata": {},
   "source": [
    "29. Build a program that determines the roots of a quartic equation using numerical methods."
   ]
  },
  {
   "cell_type": "code",
   "execution_count": 8,
   "id": "06dbb29b-df94-4a51-9f40-f709245ae273",
   "metadata": {},
   "outputs": [
    {
     "name": "stdin",
     "output_type": "stream",
     "text": [
      "Enter the coefficient a:  3\n",
      "Enter the coefficient b:  2\n",
      "Enter the coefficient c:  1\n"
     ]
    },
    {
     "name": "stdout",
     "output_type": "stream",
     "text": [
      "The roots are complex: -0.3333333333333333 + 0.47140452079103173i and -0.3333333333333333 - 0.47140452079103173i\n"
     ]
    }
   ],
   "source": [
    "import math\n",
    "\n",
    "# The quadratic equation: ax^2 + bx + c = 0\n",
    "a = float(input(\"Enter the coefficient a: \"))\n",
    "b = float(input(\"Enter the coefficient b: \"))\n",
    "c = float(input(\"Enter the coefficient c: \"))\n",
    "\n",
    "# Calculating the discriminant (the value inside the square root)\n",
    "discriminant = b**2 - 4*a*c\n",
    "\n",
    "# Checking the nature of the roots using the discriminant\n",
    "if discriminant > 0:\n",
    "    # Two distinct real roots\n",
    "    root1 = (-b + math.sqrt(discriminant)) / (2*a)\n",
    "    root2 = (-b - math.sqrt(discriminant)) / (2*a)\n",
    "    print(f\"The roots are real and distinct: {root1} and {root2}\")\n",
    "elif discriminant == 0:\n",
    "    # One real root (repeated)\n",
    "    root = -b / (2*a)\n",
    "    print(f\"There is one real root (repeated): {root}\")\n",
    "else:\n",
    "    # Complex roots\n",
    "    real_part = -b / (2*a)\n",
    "    imaginary_part = math.sqrt(abs(discriminant)) / (2*a)\n",
    "    print(f\"The roots are complex: {real_part} + {imaginary_part}i and {real_part} - {imaginary_part}i\")\n"
   ]
  },
  {
   "cell_type": "markdown",
   "id": "59a5e2d3-e855-4ea3-b74c-1c163dec925b",
   "metadata": {},
   "source": [
    "30. Write a program that calculates the BMI (Body Mass Index) and provides health recommendations based\n",
    "on the user's input."
   ]
  },
  {
   "cell_type": "code",
   "execution_count": 1,
   "id": "26238f32-92ad-4fbb-befe-72dde30c5bd9",
   "metadata": {},
   "outputs": [
    {
     "name": "stdin",
     "output_type": "stream",
     "text": [
      "Enter your height in meters (e.g., 1.63):  1.62\n",
      "Enter your weight in kilograms (e.g., 72):  64\n"
     ]
    },
    {
     "name": "stdout",
     "output_type": "stream",
     "text": [
      "Your BMI is 24.39, and you are categorized as Normal Weight, your weight is in healthy range.\n"
     ]
    }
   ],
   "source": [
    "#function to calculate BMI\n",
    "def calculate_bmi(weight_kg, height_meter):\n",
    "    return weight_kg / (height_meter ** 2)\n",
    "\n",
    "# Input height and weight \n",
    "height = float(input(\"Enter your height in meters (e.g., 1.63): \"))\n",
    "weight = float(input(\"Enter your weight in kilograms (e.g., 72): \"))\n",
    "\n",
    "# Calculate BMI\n",
    "bmi = calculate_bmi(weight, height)\n",
    "\n",
    "if bmi < 18.5:\n",
    "    category = \"Underweight, consider gaining weight\"\n",
    "elif 18.5 <= bmi < 24.9:\n",
    "    category = \"Normal Weight, your weight is in healthy range\"\n",
    "elif 24.9 <= bmi < 29.9:\n",
    "    category = \"Overweight, consider losing weight\"\n",
    "else:\n",
    "    category = \"Obese, take casre of health\"\n",
    "\n",
    "print(f\"Your BMI is {bmi:.2f}, and you are categorized as {category}.\")"
   ]
  },
  {
   "cell_type": "markdown",
   "id": "e225ae2f-b428-4797-9865-27ea58bbcafb",
   "metadata": {},
   "source": [
    "31. Create a program that validates a password based on complexity rules (length, characters, etc.)."
   ]
  },
  {
   "cell_type": "code",
   "execution_count": 13,
   "id": "56d5670b-c66d-46c2-9405-91d24107549c",
   "metadata": {},
   "outputs": [
    {
     "name": "stdin",
     "output_type": "stream",
     "text": [
      "Enter password pWskills@123\n"
     ]
    },
    {
     "name": "stdout",
     "output_type": "stream",
     "text": [
      "Strong passowrd\n"
     ]
    }
   ],
   "source": [
    "import string\n",
    "user_input = input(\"Enter password\")\n",
    "if len(user_input)>=8 and any(char.isdigit() for char in user_input) and any(char in string.punctuation for char in user_input) and any(char.isupper() for char in user_input) and any(char in string.ascii_letters for char in  user_input):\n",
    "    print(\"Strong passowrd\")        \n",
    "else:\n",
    "    print(\"Not strong password, password must contain atleast one upper case letter,punctuation and a number\")   "
   ]
  },
  {
   "cell_type": "markdown",
   "id": "4de3fcd3-4763-415b-8c78-732c3872fa4e",
   "metadata": {},
   "source": [
    "32. Develop a program that performs matrix addition and subtraction based on user input."
   ]
  },
  {
   "cell_type": "code",
   "execution_count": 17,
   "id": "1134595a-79a7-4045-a0a8-04e6e6c178d8",
   "metadata": {},
   "outputs": [
    {
     "name": "stdin",
     "output_type": "stream",
     "text": [
      "enter number of rows: 2\n",
      "enter number of columns 2\n"
     ]
    },
    {
     "name": "stdout",
     "output_type": "stream",
     "text": [
      "Enter values for matrix1:\n"
     ]
    },
    {
     "name": "stdin",
     "output_type": "stream",
     "text": [
      "enter value at position (1,1): 1\n",
      "enter value at position (1,2): 2\n",
      "enter value at position (2,1): 1\n",
      "enter value at position (2,2): 2\n",
      "enter value at position (1,1): 1\n",
      "enter value at position (1,2): 2\n",
      "enter value at position (2,1): 1\n",
      "enter value at position (2,2): 2\n"
     ]
    },
    {
     "name": "stdout",
     "output_type": "stream",
     "text": [
      "Addition of matrixs :\n",
      "[2.0, 4.0]\n",
      "[2.0, 4.0]\n",
      "Subtraction of matrixs :\n",
      "[0.0, 0.0]\n",
      "[0.0, 0.0]\n"
     ]
    }
   ],
   "source": [
    "rows=int(input(\"enter number of rows:\"))\n",
    "column=int(input(\"enter number of columns\"))\n",
    "matrix1=[]\n",
    "matrix2=[]\n",
    "result=[]\n",
    "result1=[]\n",
    "print(\"Enter values for matrix1:\")\n",
    "for i in range(rows):\n",
    "    row=[]\n",
    "    for j in range(column):\n",
    "        value=float(input(f\"enter value at position ({i+1},{j+1}):\"))\n",
    "        row.append(value)\n",
    "    matrix1.append(row)\n",
    "for i in range(rows):\n",
    "    row=[]\n",
    "    for j in range(column):\n",
    "        value=float(input(f\"enter value at position ({i+1},{j+1}):\"))\n",
    "        row.append(value)\n",
    "    matrix2.append(row)        \n",
    "\n",
    "for i in range(rows):\n",
    "    row=[]\n",
    "    row2=[]\n",
    "    for j in range(column):\n",
    "        result2=matrix1[i][j]+matrix2[i][j]\n",
    "        result3=matrix1[i][j]-matrix2[i][j]\n",
    "        row.append(result2)\n",
    "        row2.append(result3)\n",
    "    result.append(row)\n",
    "    result1.append(row2)\n",
    "print(\"Addition of matrixs :\",) \n",
    "for row in result:\n",
    "    print(row)\n",
    "print(\"Subtraction of matrixs :\",)  \n",
    "for row2 in result1:\n",
    "    print(row2)"
   ]
  },
  {
   "cell_type": "markdown",
   "id": "94112f62-092d-4d82-8794-472ae22db04b",
   "metadata": {},
   "source": [
    "33. Write a program that calculates the greatest common divisor (GCD) of two numbers using the Euclidean\n",
    "algorithm."
   ]
  },
  {
   "cell_type": "code",
   "execution_count": 21,
   "id": "72ec8e7a-8fd4-41d5-9e7a-cbd5aa716222",
   "metadata": {},
   "outputs": [
    {
     "name": "stdout",
     "output_type": "stream",
     "text": [
      "2\n"
     ]
    }
   ],
   "source": [
    "def eu(a,b):\n",
    "    while b !=0:\n",
    "        a,b=b,a%b\n",
    "    return a \n",
    "result=eu(232,18)\n",
    "print(result)"
   ]
  },
  {
   "cell_type": "markdown",
   "id": "6f96fdd8-e4da-4c76-abc3-feb016ae672d",
   "metadata": {},
   "source": [
    "34. Build a program that performs matrix multiplication using nested loops and conditional statements.\n"
   ]
  },
  {
   "cell_type": "code",
   "execution_count": 1,
   "id": "517e0d0a-8cf8-4a69-8a09-3f99f98fa0d9",
   "metadata": {},
   "outputs": [
    {
     "name": "stdin",
     "output_type": "stream",
     "text": [
      "Enter the number of rows for Matrix A:  2\n",
      "Enter the number of columns for Matrix A:  2\n"
     ]
    },
    {
     "name": "stdout",
     "output_type": "stream",
     "text": [
      "Enter elements for Matrix A:\n"
     ]
    },
    {
     "name": "stdin",
     "output_type": "stream",
     "text": [
      "Enter element at row 1, column 1:  1\n",
      "Enter element at row 1, column 2:  2\n",
      "Enter element at row 2, column 1:  3\n",
      "Enter element at row 2, column 2:  4\n",
      "Enter the number of rows for Matrix B:  5\n",
      "Enter the number of columns for Matrix B:  3\n"
     ]
    },
    {
     "name": "stdout",
     "output_type": "stream",
     "text": [
      "Enter elements for Matrix B:\n"
     ]
    },
    {
     "name": "stdin",
     "output_type": "stream",
     "text": [
      "Enter element at row 1, column 1:  3\n",
      "Enter element at row 1, column 2:  2\n",
      "Enter element at row 1, column 3:  2\n",
      "Enter element at row 2, column 1:  1\n",
      "Enter element at row 2, column 2:  2\n",
      "Enter element at row 2, column 3:  3\n",
      "Enter element at row 3, column 1:  1\n",
      "Enter element at row 3, column 2:  2\n",
      "Enter element at row 3, column 3:  3\n",
      "Enter element at row 4, column 1:  2\n",
      "Enter element at row 4, column 2:  1\n",
      "Enter element at row 4, column 3:  2\n",
      "Enter element at row 5, column 1:  1\n",
      "Enter element at row 5, column 2:  2\n",
      "Enter element at row 5, column 3:  1\n"
     ]
    },
    {
     "name": "stdout",
     "output_type": "stream",
     "text": [
      "\n",
      "Matrix multiplication is not possible due to incompatible dimensions.\n"
     ]
    }
   ],
   "source": [
    "rows_a = int(input(\"Enter the number of rows for Matrix A: \"))\n",
    "cols_a = int(input(\"Enter the number of columns for Matrix A: \"))\n",
    "\n",
    "# Initializing Matrix A with user-defined dimensions\n",
    "print(\"Enter elements for Matrix A:\")\n",
    "A = []\n",
    "for i in range(rows_a):\n",
    "    row = []\n",
    "    for j in range(cols_a):\n",
    "        element = float(input(f\"Enter element at row {i+1}, column {j+1}: \"))\n",
    "        row.append(element)\n",
    "    A.append(row)\n",
    "\n",
    "#user input for Matrix B dimensions\n",
    "rows_b = int(input(\"Enter the number of rows for Matrix B: \"))\n",
    "cols_b = int(input(\"Enter the number of columns for Matrix B: \"))\n",
    "\n",
    "# Initializing Matrix B with user-defined dimensions\n",
    "print(\"Enter elements for Matrix B:\")\n",
    "B = []\n",
    "for i in range(rows_b):\n",
    "    row = []\n",
    "    for j in range(cols_b):\n",
    "        element = float(input(f\"Enter element at row {i+1}, column {j+1}: \"))\n",
    "        row.append(element)\n",
    "    B.append(row)\n",
    "\n",
    "# Checking if matrix multiplication is possible\n",
    "if cols_a != rows_b:\n",
    "    print(\"\\nMatrix multiplication is not possible due to incompatible dimensions.\")\n",
    "else:\n",
    "# Performing matrix multiplication\n",
    "    C = []\n",
    "    for i in range(rows_a):\n",
    "        row = []\n",
    "        for j in range(cols_b):\n",
    "            element = 0\n",
    "            for k in range(cols_a):\n",
    "                element += A[i][k] * B[k][j]\n",
    "            row.append(element)\n",
    "        C.append(row)\n",
    "\n",
    "# Printing the resulting matrix C\n",
    "    print(\"\\nMatrix A:\")\n",
    "    for row in A:\n",
    "        print(row)\n",
    "\n",
    "    print(\"\\nMatrix B:\")\n",
    "    for row in B:\n",
    "        print(row)\n",
    "\n",
    "    print(\"\\nResulting Matrix C:\")\n",
    "    for row in C:\n",
    "        print(row)\n",
    "\n"
   ]
  },
  {
   "cell_type": "markdown",
   "id": "94d50afc-03e4-4cba-81da-89984d17f9ad",
   "metadata": {},
   "source": [
    "35. Create a program that simulates a basic text-based tic-tac-toe game against the computer.\n"
   ]
  },
  {
   "cell_type": "code",
   "execution_count": 15,
   "id": "f7047132-d99b-4a05-86cd-5a0bbcf87814",
   "metadata": {},
   "outputs": [
    {
     "name": "stdout",
     "output_type": "stream",
     "text": [
      "  |   |  \n",
      "----------\n",
      "  |   |  \n",
      "----------\n",
      "  |   |  \n"
     ]
    },
    {
     "name": "stdin",
     "output_type": "stream",
     "text": [
      "Enter your move [1-9]:  5\n"
     ]
    },
    {
     "name": "stdout",
     "output_type": "stream",
     "text": [
      "  |   |  \n",
      "----------\n",
      "  | X | O\n",
      "----------\n",
      "  |   |  \n"
     ]
    },
    {
     "name": "stdin",
     "output_type": "stream",
     "text": [
      "Enter your move [1-9]:  1\n"
     ]
    },
    {
     "name": "stdout",
     "output_type": "stream",
     "text": [
      "X | O |  \n",
      "----------\n",
      "  | X | O\n",
      "----------\n",
      "  |   |  \n"
     ]
    },
    {
     "name": "stdin",
     "output_type": "stream",
     "text": [
      "Enter your move [1-9]:  3\n"
     ]
    },
    {
     "name": "stdout",
     "output_type": "stream",
     "text": [
      "X | O | X\n",
      "----------\n",
      "  | X | O\n",
      "----------\n",
      "O |   |  \n"
     ]
    },
    {
     "name": "stdin",
     "output_type": "stream",
     "text": [
      "Enter your move [1-9]:  4\n"
     ]
    },
    {
     "name": "stdout",
     "output_type": "stream",
     "text": [
      "X | O | X\n",
      "----------\n",
      "X | X | O\n",
      "----------\n",
      "O |   | O\n"
     ]
    },
    {
     "name": "stdin",
     "output_type": "stream",
     "text": [
      "Enter your move [1-9]:  8\n"
     ]
    },
    {
     "name": "stdout",
     "output_type": "stream",
     "text": [
      "X | O | X\n",
      "----------\n",
      "X | X | O\n",
      "----------\n",
      "O | X | O\n",
      "It's a tie!\n"
     ]
    }
   ],
   "source": [
    "import random\n",
    "\n",
    "# Initializing board\n",
    "board = [\" \" for _ in range(9)]\n",
    "\n",
    "# Function to display the board\n",
    "def print_board(board):\n",
    "    print(f\"{board[0]} | {board[1]} | {board[2]}\")\n",
    "    print(\"----------\")\n",
    "    print(f\"{board[3]} | {board[4]} | {board[5]}\")\n",
    "    print(\"----------\")\n",
    "    print(f\"{board[6]} | {board[7]} | {board[8]}\")\n",
    "\n",
    "# Function to check if the board is full\n",
    "def is_board_full(board):\n",
    "    return \" \" not in board\n",
    "\n",
    "# Function to check for a win\n",
    "def check_win(board, player):\n",
    "    win_combi = [[0, 1, 2], [3, 4, 5], [6, 7, 8], [0, 3, 6], [1, 4, 7], [2, 5, 8], [0, 4, 8], [2, 4, 6]]\n",
    "    for combo in win_combi:\n",
    "        if all(board[i] == player for i in combo):\n",
    "            return True\n",
    "    return False\n",
    "\n",
    "# Computer's move\n",
    "def computer_move(board):\n",
    "    empty_cells = [i for i in range(9) if board[i] == \" \"]\n",
    "    return random.choice(empty_cells)\n",
    "\n",
    "# Main game loop\n",
    "while True:\n",
    "    print_board(board)\n",
    "\n",
    "    # Player's move\n",
    "    while True:\n",
    "        try:\n",
    "            player_move = int(input(\"Enter your move [1-9]: \")) - 1\n",
    "            if 0 <= player_move <= 8 and board[player_move] == \" \":\n",
    "                break\n",
    "            else:\n",
    "                print(\"Invalid move, try again\")\n",
    "        except ValueError:\n",
    "            print(\"Invalid input.\")\n",
    "\n",
    "    board[player_move] = 'X'\n",
    "\n",
    "    if check_win(board, 'X'):\n",
    "        print_board(board)\n",
    "        print(\"You win!\")\n",
    "        break\n",
    "\n",
    "    if is_board_full(board):\n",
    "        print_board(board)\n",
    "        print(\"It's a tie!\")\n",
    "        break\n",
    "\n",
    "    # Computer's move\n",
    "    computer_move_index = computer_move(board)\n",
    "    board[computer_move_index] = 'O'\n",
    "\n",
    "    if check_win(board, 'O'):\n",
    "        print_board(board)\n",
    "        print(\"Computer wins!\")\n",
    "        break\n"
   ]
  },
  {
   "cell_type": "markdown",
   "id": "0ac565ae-d7b6-49e9-a571-70fa2547a32a",
   "metadata": {},
   "source": [
    "36. Write a program that generates Fibonacci numbers up to a specified term using iterative methods."
   ]
  },
  {
   "cell_type": "code",
   "execution_count": 30,
   "id": "2384084d-3b78-4a06-8b4e-5878050d193e",
   "metadata": {},
   "outputs": [
    {
     "name": "stdin",
     "output_type": "stream",
     "text": [
      "Enter a value for n 6\n"
     ]
    },
    {
     "name": "stdout",
     "output_type": "stream",
     "text": [
      "[0, 1, 1, 2, 3, 5]\n"
     ]
    }
   ],
   "source": [
    "n=int(input(\"Enter a value for n\"))\n",
    "def fib(n):\n",
    "    a, b = 0, 1\n",
    "    for i in range(n):\n",
    "        yield a\n",
    "        a, b = b, a + b\n",
    "\n",
    "p = []  # Initialize p outside of the loop\n",
    "for i in fib(n):\n",
    "    p.append(i)\n",
    "    \n",
    "\n",
    "print(p)\n"
   ]
  },
  {
   "cell_type": "markdown",
   "id": "4745419b-d394-4e40-9c21-757f9ae794a7",
   "metadata": {},
   "source": [
    "37. Develop a program that calculates the nth term of the Fibonacci sequence using memoization."
   ]
  },
  {
   "cell_type": "code",
   "execution_count": 14,
   "id": "f0f4ae43-e555-4004-a82a-f1cdcaaa9f18",
   "metadata": {},
   "outputs": [
    {
     "name": "stdin",
     "output_type": "stream",
     "text": [
      "Enter the value of n:  6\n"
     ]
    },
    {
     "name": "stdout",
     "output_type": "stream",
     "text": [
      "The 6th Fibonacci number is 8\n",
      "{2: 1, 3: 2, 4: 3, 5: 5, 6: 8}\n"
     ]
    }
   ],
   "source": [
    "# Dictionary to store cached Fibonacci numbers\n",
    "fib_cache = {}\n",
    "\n",
    "def fibonacci(n):\n",
    "    # if the result is already in the cache\n",
    "    if n in fib_cache:\n",
    "        return fib_cache[n]\n",
    "    \n",
    "    #Fibonacci of 0 and 1\n",
    "    if n == 0:\n",
    "        return 0\n",
    "    elif n == 1:\n",
    "        return 1\n",
    "\n",
    "    # Recursive case: Fibonacci using memoization\n",
    "    result = fibonacci(n - 1) + fibonacci(n - 2)\n",
    "    \n",
    "    # Cache the result for future use\n",
    "    fib_cache[n] = result\n",
    "    \n",
    "    return result\n",
    "\n",
    "n = int(input(\"Enter the value of n: \"))\n",
    "\n",
    "# Calculating and printing the nth Fibonacci number\n",
    "result = fibonacci(n)\n",
    "print(f\"The {n}th Fibonacci number is {result}\")\n",
    "print(fib_cache)\n"
   ]
  },
  {
   "cell_type": "markdown",
   "id": "09af6a70-9fdd-44a8-aa5d-f6e5965c7395",
   "metadata": {},
   "source": [
    "38. Create a program that generates a calendar for a given month and year using conditional statements"
   ]
  },
  {
   "cell_type": "code",
   "execution_count": 31,
   "id": "49a8f7a2-f429-43dc-8a5b-23eec00266e4",
   "metadata": {},
   "outputs": [
    {
     "name": "stdin",
     "output_type": "stream",
     "text": [
      "year 2024\n",
      "Month 6\n"
     ]
    },
    {
     "name": "stdout",
     "output_type": "stream",
     "text": [
      "      June 2024\n",
      "Mo Tu We Th Fr Sa Su\n",
      "                1  2 \n",
      " 3  4  5  6  7  8  9 \n",
      "10 11 12 13 14 15 16 \n",
      "17 18 19 20 21 22 23 \n",
      "24 25 26 27 28 29 30 \n"
     ]
    }
   ],
   "source": [
    "def print_calendar(year, month):\n",
    "# Importing datetime to get the number of days in the month\n",
    "    import datetime\n",
    "\n",
    "# Determining the first day of the month\n",
    "    first_day = datetime.date(year, month, 1)\n",
    "\n",
    "# Determining the number of days in the month\n",
    "    if month == 12:\n",
    "        last_day = datetime.date(year + 1, 1, 1) - datetime.timedelta(days=1)\n",
    "    else:\n",
    "        last_day = datetime.date(year, month + 1, 1) - datetime.timedelta(days=1)\n",
    "\n",
    "# Printing the header\n",
    "    print(f\"{' ' * 6}{first_day.strftime('%B')} {year}\")\n",
    "    print(\"Mo Tu We Th Fr Sa Su\")\n",
    "\n",
    "# Initializing variables for day and weekday\n",
    "    current_day = 1\n",
    "    current_weekday = first_day.weekday()\n",
    "\n",
    "# Looping through the weeks\n",
    "    while current_day <= last_day.day:\n",
    "        week = \" \" * (current_weekday * 3)\n",
    "        while current_weekday < 7 and current_day <= last_day.day:\n",
    "            week += f\"{current_day:2d} \"\n",
    "            current_day += 1\n",
    "            current_weekday += 1\n",
    "        print(week)\n",
    "        current_weekday = 0\n",
    "\n",
    "# Specifing the year and month to print\n",
    "year = int(input(\"year\"))\n",
    "month = int(input(\"Month\"))\n",
    "\n",
    "# Calling the function to print the calendar\n",
    "print_calendar(year, month)"
   ]
  },
  {
   "cell_type": "markdown",
   "id": "454811df-7525-4061-90c3-6f7bc882dc15",
   "metadata": {},
   "source": [
    "39. Build a program that simulates a basic text-based blackjack game against the computer."
   ]
  },
  {
   "cell_type": "code",
   "execution_count": 23,
   "id": "0a66183a-5a35-4b64-a488-c80ca3f1a785",
   "metadata": {},
   "outputs": [
    {
     "name": "stdout",
     "output_type": "stream",
     "text": [
      "Welcome to Text-based Blackjack!\n",
      "\n",
      "Your hand:\n",
      "Ace of Diamonds\n",
      "Nine of Clubs\n",
      "Your score: 20\n"
     ]
    },
    {
     "name": "stdin",
     "output_type": "stream",
     "text": [
      "\n",
      "Do you want to 'hit' or 'stand'?  hit\n"
     ]
    },
    {
     "name": "stdout",
     "output_type": "stream",
     "text": [
      "\n",
      "Your hand:\n",
      "Ace of Diamonds\n",
      "Nine of Clubs\n",
      "Seven of Diamonds\n",
      "Your score: 17\n"
     ]
    },
    {
     "name": "stdin",
     "output_type": "stream",
     "text": [
      "\n",
      "Do you want to 'hit' or 'stand'?  hit\n"
     ]
    },
    {
     "name": "stdout",
     "output_type": "stream",
     "text": [
      "\n",
      "Your hand:\n",
      "Ace of Diamonds\n",
      "Nine of Clubs\n",
      "Seven of Diamonds\n",
      "Three of Spades\n",
      "Your score: 20\n"
     ]
    },
    {
     "name": "stdin",
     "output_type": "stream",
     "text": [
      "\n",
      "Do you want to 'hit' or 'stand'?  hit\n"
     ]
    },
    {
     "name": "stdout",
     "output_type": "stream",
     "text": [
      "\n",
      "Your hand:\n",
      "Ace of Diamonds\n",
      "Nine of Clubs\n",
      "Seven of Diamonds\n",
      "Three of Spades\n",
      "Eight of Spades\n",
      "Your score: 28\n",
      "\n",
      "Dealer's hand:\n",
      "Two of Clubs\n",
      "Five of Hearts\n",
      "King of Diamonds\n",
      "Dealer's score: 17\n",
      "\n",
      "You busted. Dealer wins!\n"
     ]
    },
    {
     "name": "stdin",
     "output_type": "stream",
     "text": [
      "\n",
      "Do you want to play again? (yes/no):  no\n"
     ]
    },
    {
     "name": "stdout",
     "output_type": "stream",
     "text": [
      "\n",
      "Thanks for playing!\n"
     ]
    }
   ],
   "source": [
    "import random\n",
    "\n",
    "# Initializing the deck\n",
    "suits = ['Hearts', 'Diamonds', 'Clubs', 'Spades']\n",
    "ranks = ['Two', 'Three', 'Four', 'Five', 'Six', 'Seven', 'Eight', 'Nine', 'Ten', 'Jack', 'Queen', 'King', 'Ace']\n",
    "values = [2, 3, 4, 5, 6, 7, 8, 9, 10, 10, 10, 10, 11]\n",
    "\n",
    "#functions for gameplay\n",
    "def create_deck():\n",
    "    deck = []\n",
    "    for suit in suits:\n",
    "        for rank, value in zip(ranks, values):\n",
    "            card = f\"{rank} of {suit}\"\n",
    "            deck.append((card, value))\n",
    "    return deck\n",
    "\n",
    "def deal_card(deck):\n",
    "    return deck.pop(random.randint(0, len(deck)-1))\n",
    "\n",
    "def calculate_score(hand):\n",
    "    score = sum(card[1] for card in hand)\n",
    "    if score > 21 and any(card[0].startswith(\"Ace\") for card in hand):\n",
    "        for i in range(len(hand)):\n",
    "            if hand[i][0].startswith(\"Ace\") and hand[i][1] == 11:\n",
    "                hand[i] = (hand[i][0], 1)\n",
    "                score -= 10\n",
    "    return score\n",
    "\n",
    "def blackjack():\n",
    "    print(\"Welcome to Text-based Blackjack!\")\n",
    "\n",
    "    while True:\n",
    "        player_hand = []\n",
    "        dealer_hand = []\n",
    "        deck = create_deck()\n",
    "        random.shuffle(deck)\n",
    "\n",
    "        player_hand.append(deal_card(deck))\n",
    "        dealer_hand.append(deal_card(deck))\n",
    "        player_hand.append(deal_card(deck))\n",
    "        dealer_hand.append(deal_card(deck))\n",
    "\n",
    "        while calculate_score(player_hand) < 21:\n",
    "            print(\"\\nYour hand:\")\n",
    "            for card in player_hand:\n",
    "                print(card[0])\n",
    "            print(f\"Your score: {calculate_score(player_hand)}\")\n",
    "\n",
    "            action = input(\"\\nDo you want to 'hit' or 'stand'? \").lower()\n",
    "            if action == 'hit':\n",
    "                player_hand.append(deal_card(deck))\n",
    "            elif action == 'stand':\n",
    "                break\n",
    "            else:\n",
    "                print(\"Invalid input. Please enter 'hit' or 'stand'.\")\n",
    "\n",
    "        while calculate_score(dealer_hand) < 17:\n",
    "            dealer_hand.append(deal_card(deck))\n",
    "\n",
    "        print(\"\\nYour hand:\")\n",
    "        for card in player_hand:\n",
    "            print(card[0])\n",
    "        print(f\"Your score: {calculate_score(player_hand)}\")\n",
    "\n",
    "        print(\"\\nDealer's hand:\")\n",
    "        for card in dealer_hand:\n",
    "            print(card[0])\n",
    "        print(f\"Dealer's score: {calculate_score(dealer_hand)}\")\n",
    "\n",
    "        if calculate_score(player_hand) > 21:\n",
    "            print(\"\\nYou busted. Dealer wins!\")\n",
    "        elif calculate_score(dealer_hand) > 21:\n",
    "            print(\"\\nDealer busted. You win!\")\n",
    "        elif calculate_score(player_hand) > calculate_score(dealer_hand):\n",
    "            print(\"\\nYou win!\")\n",
    "        elif calculate_score(player_hand) < calculate_score(dealer_hand):\n",
    "            print(\"\\nDealer wins!\")\n",
    "        else:\n",
    "            print(\"\\nIt's a tie!\")\n",
    "\n",
    "        play_again = input(\"\\nDo you want to play again? (yes/no): \").lower()\n",
    "        if play_again != 'yes':\n",
    "            break\n",
    "\n",
    "    print(\"\\nThanks for playing!\")\n",
    "\n",
    "if __name__ == \"__main__\":\n",
    "    blackjack()\n"
   ]
  },
  {
   "cell_type": "markdown",
   "id": "01b40ca3-495a-4bf7-9937-313a7bf37c8a",
   "metadata": {},
   "source": [
    "40. Write a program that generates the prime factors of a given number using trial division."
   ]
  },
  {
   "cell_type": "code",
   "execution_count": 32,
   "id": "9c9cc0a1-e460-4e60-bfc5-0d3057d5e72a",
   "metadata": {},
   "outputs": [
    {
     "name": "stdin",
     "output_type": "stream",
     "text": [
      "Enter a positive integer:  99\n"
     ]
    },
    {
     "name": "stdout",
     "output_type": "stream",
     "text": [
      "The prime factors of 99 are: [3, 3, 11]\n"
     ]
    }
   ],
   "source": [
    "def prime_factors(n):\n",
    "    factors = []\n",
    "    divisor = 2  # Start with the smallest prime number\n",
    "    \n",
    "    while divisor <= n:\n",
    "        if n % divisor == 0:\n",
    "            factors.append(divisor)\n",
    "            n = n // divisor  # Integer division to reduce n\n",
    "        else:\n",
    "            divisor += 1\n",
    "    \n",
    "    return factors\n",
    "\n",
    "# Input a number from the user\n",
    "try:\n",
    "    num = int(input(\"Enter a positive integer: \"))\n",
    "    if num <= 0:\n",
    "        print(\"Please enter a positive integer.\")\n",
    "    else:\n",
    "        factors = prime_factors(num)\n",
    "        if len(factors) == 0:\n",
    "            print(f\"{num} is a prime number, and it has no prime factors.\")\n",
    "        else:\n",
    "            print(f\"The prime factors of {num} are: {factors}\")\n",
    "except ValueError:\n",
    "    print(\"Invalid input. Please enter a positive integer.\")\n"
   ]
  },
  {
   "cell_type": "code",
   "execution_count": null,
   "id": "539234e9-4065-4f86-acdc-712eb903f26e",
   "metadata": {},
   "outputs": [],
   "source": []
  }
 ],
 "metadata": {
  "kernelspec": {
   "display_name": "Python 3 (ipykernel)",
   "language": "python",
   "name": "python3"
  },
  "language_info": {
   "codemirror_mode": {
    "name": "ipython",
    "version": 3
   },
   "file_extension": ".py",
   "mimetype": "text/x-python",
   "name": "python",
   "nbconvert_exporter": "python",
   "pygments_lexer": "ipython3",
   "version": "3.10.8"
  }
 },
 "nbformat": 4,
 "nbformat_minor": 5
}
